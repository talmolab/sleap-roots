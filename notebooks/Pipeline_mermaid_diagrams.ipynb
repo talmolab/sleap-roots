{
 "cells": [
  {
   "cell_type": "code",
   "execution_count": 69,
   "metadata": {},
   "outputs": [],
   "source": [
    "from sleap_roots import DicotPipeline, YoungerMonocotPipeline, OlderMonocotPipeline, Series, find_all_series\n",
    "import pandas as pd\n",
    "import numpy as np\n",
    "from pathlib import Path"
   ]
  },
  {
   "cell_type": "code",
   "execution_count": 70,
   "metadata": {},
   "outputs": [],
   "source": [
    "def generate_mermaid_graph_and_write_to_file(pipeline, name):\n",
    "    trait_definitions = pipeline().define_traits()\n",
    "    graph = \"```mermaid\\ngraph TD\\n\"\n",
    "    unique_traits = set()\n",
    "\n",
    "    for trait_def in trait_definitions:\n",
    "        for input_trait in trait_def.input_traits:\n",
    "            graph += f\"    {input_trait} --> {trait_def.name}\\n\"\n",
    "            unique_traits.add(input_trait)\n",
    "            unique_traits.add(trait_def.name)\n",
    "\n",
    "    graph += \"```\\n\"\n",
    "    \n",
    "    # Write to a markdown file\n",
    "    file_name = f\"{name}_Mermaid_Graph.md\"\n",
    "    with open(file_name, 'w') as file:\n",
    "        file.write(graph)\n",
    "        file.write(f\"\\nDistinct Traits for {name}: {len(unique_traits)}\\n\")\n",
    "    \n",
    "    print(f\"{name} Mermaid graph written to {file_name}\")\n",
    "    return graph, len(unique_traits)\n"
   ]
  },
  {
   "cell_type": "code",
   "execution_count": 71,
   "metadata": {},
   "outputs": [],
   "source": [
    "canola_folder = Path(\"tests/data/canola_7do\")\n",
    "rice_10do_folder = Path(\"tests/data/rice_10do\")\n",
    "soy_folder = Path(\"tests/data/soy_6do\")\n",
    "rice_folder = Path(\"tests/data/rice_3do\")"
   ]
  },
  {
   "cell_type": "code",
   "execution_count": 72,
   "metadata": {},
   "outputs": [],
   "source": [
    "younger_monocot_pipeline = YoungerMonocotPipeline() # Requires crown and primary root predictions\n",
    "older_monocot_pipeline = OlderMonocotPipeline() # Requires crown roots predictions\n",
    "dicot_pipeline = DicotPipeline() # Requires primary and lateral root predictions"
   ]
  },
  {
   "cell_type": "code",
   "execution_count": 73,
   "metadata": {},
   "outputs": [],
   "source": [
    "canola_data = find_all_series(canola_folder)\n",
    "rice_10do_data = find_all_series(rice_10do_folder)\n",
    "soy_data = find_all_series(soy_folder)\n",
    "rice_data = find_all_series(rice_folder)"
   ]
  },
  {
   "cell_type": "code",
   "execution_count": 74,
   "metadata": {},
   "outputs": [
    {
     "data": {
      "text/plain": [
       "['tests/data/canola_7do/919QDUH.h5']"
      ]
     },
     "execution_count": 74,
     "metadata": {},
     "output_type": "execute_result"
    }
   ],
   "source": [
    "canola_data"
   ]
  },
  {
   "cell_type": "code",
   "execution_count": 75,
   "metadata": {},
   "outputs": [
    {
     "name": "stdout",
     "output_type": "stream",
     "text": [
      "number of series in canola: 1\n",
      "number of series in rice_10do: 1\n",
      "number of series in soy: 1\n",
      "number of series in rice: 2\n"
     ]
    }
   ],
   "source": [
    "print(f\"number of series in canola: {len(canola_data)}\")\n",
    "print(f\"number of series in rice_10do: {len(rice_10do_data)}\")\n",
    "print(f\"number of series in soy: {len(soy_data)}\")\n",
    "print(f\"number of series in rice: {len(rice_data)}\")"
   ]
  },
  {
   "cell_type": "code",
   "execution_count": 76,
   "metadata": {},
   "outputs": [],
   "source": [
    "canola_series = [Series.load(s, primary_name=\"primary\", lateral_name=\"lateral\") for s in canola_data]\n",
    "rice_10do_series = [Series.load(s, crown_name=\"crown\") for s in rice_10do_data]\n",
    "soy_series = [Series.load(s, primary_name=\"primary\", lateral_name=\"lateral\") for s in soy_data]\n",
    "rice_series = [Series.load(s, primary_name=\"primary\", crown_name=\"crown\") for s in rice_data]"
   ]
  },
  {
   "cell_type": "code",
   "execution_count": 77,
   "metadata": {},
   "outputs": [],
   "source": [
    "canola_df = dicot_pipeline.compute_batch_traits(canola_series, write_csv=True, csv_path=\"canola_batch_traits.csv\")\n",
    "rice_10do_df = older_monocot_pipeline.compute_batch_traits(rice_10do_series, write_csv=True, csv_path=\"rice_10do_batch_traits.csv\")\n",
    "soy_df = dicot_pipeline.compute_batch_traits(soy_series, write_csv=True, csv_path=\"soy_batch_traits.csv\")\n",
    "rice_df = younger_monocot_pipeline.compute_batch_traits(rice_series, write_csv=True, csv_path=\"rice_batch_traits.csv\")"
   ]
  },
  {
   "cell_type": "code",
   "execution_count": 78,
   "metadata": {},
   "outputs": [
    {
     "name": "stdout",
     "output_type": "stream",
     "text": [
      "Shape of canola dataframe:  (1, 1036)\n",
      "Shape of rice_10do dataframe:  (1, 901)\n",
      "Shape of soy dataframe:  (1, 1036)\n",
      "Shape of rice dataframe:  (2, 919)\n"
     ]
    }
   ],
   "source": [
    "print(\"Shape of canola dataframe: \", canola_df.shape)\n",
    "print(\"Shape of rice_10do dataframe: \", rice_10do_df.shape)\n",
    "print(\"Shape of soy dataframe: \", soy_df.shape)\n",
    "print(\"Shape of rice dataframe: \", rice_df.shape)"
   ]
  },
  {
   "cell_type": "code",
   "execution_count": 79,
   "metadata": {},
   "outputs": [
    {
     "name": "stdout",
     "output_type": "stream",
     "text": [
      "DicotPipeline Mermaid graph written to DicotPipeline_Mermaid_Graph.md\n",
      "Mermaid Graph for DicotPipeline:\n",
      "```mermaid\n",
      "graph TD\n",
      "    primary_pts --> primary_max_length_pts\n",
      "    primary_max_length_pts --> pts_all_array\n",
      "    lateral_pts --> pts_all_array\n",
      "    primary_max_length_pts --> pts_list\n",
      "    lateral_pts --> pts_list\n",
      "    primary_max_length_pts --> root_widths\n",
      "    lateral_pts --> root_widths\n",
      "    lateral_pts --> lateral_count\n",
      "    lateral_pts --> lateral_proximal_node_inds\n",
      "    lateral_pts --> lateral_distal_node_inds\n",
      "    lateral_pts --> lateral_lengths\n",
      "    lateral_pts --> lateral_base_pts\n",
      "    lateral_pts --> lateral_tip_pts\n",
      "    pts_list --> scanline_intersection_counts\n",
      "    lateral_pts --> lateral_angles_distal\n",
      "    lateral_distal_node_inds --> lateral_angles_distal\n",
      "    lateral_pts --> lateral_angles_proximal\n",
      "    lateral_proximal_node_inds --> lateral_angles_proximal\n",
      "    network_length --> network_solidity\n",
      "    chull_area --> network_solidity\n",
      "    pts_all_array --> ellipse\n",
      "    pts_all_array --> bounding_box\n",
      "    pts_all_array --> convex_hull\n",
      "    primary_max_length_pts --> primary_proximal_node_ind\n",
      "    primary_max_length_pts --> primary_angle_proximal\n",
      "    primary_proximal_node_ind --> primary_angle_proximal\n",
      "    primary_max_length_pts --> primary_distal_node_ind\n",
      "    primary_max_length_pts --> primary_angle_distal\n",
      "    primary_distal_node_ind --> primary_angle_distal\n",
      "    primary_max_length_pts --> primary_length\n",
      "    primary_max_length_pts --> primary_base_pt\n",
      "    primary_max_length_pts --> primary_tip_pt\n",
      "    pts_list --> network_length_lower\n",
      "    bounding_box --> network_length_lower\n",
      "    lateral_base_pts --> lateral_base_xs\n",
      "    lateral_base_pts --> lateral_base_ys\n",
      "    primary_length --> base_ct_density\n",
      "    lateral_base_pts --> base_ct_density\n",
      "    lateral_tip_pts --> lateral_tip_xs\n",
      "    lateral_tip_pts --> lateral_tip_ys\n",
      "    network_length --> network_distribution_ratio\n",
      "    network_length_lower --> network_distribution_ratio\n",
      "    primary_length --> network_length\n",
      "    lateral_lengths --> network_length\n",
      "    primary_base_pt --> primary_base_pt_y\n",
      "    primary_tip_pt --> primary_tip_pt_y\n",
      "    ellipse --> ellipse_a\n",
      "    ellipse --> ellipse_b\n",
      "    bounding_box --> network_width_depth_ratio\n",
      "    convex_hull --> chull_perimeter\n",
      "    convex_hull --> chull_area\n",
      "    convex_hull --> chull_max_width\n",
      "    convex_hull --> chull_max_height\n",
      "    convex_hull --> chull_line_lengths\n",
      "    lateral_base_ys --> base_length\n",
      "    lateral_base_ys --> base_median_ratio\n",
      "    primary_tip_pt_y --> base_median_ratio\n",
      "    primary_length --> curve_index\n",
      "    primary_base_tip_dist --> curve_index\n",
      "    primary_length --> base_length_ratio\n",
      "    base_length --> base_length_ratio\n",
      "    primary_base_pt --> primary_base_tip_dist\n",
      "    primary_tip_pt --> primary_base_tip_dist\n",
      "    ellipse --> ellipse_ratio\n",
      "    scanline_intersection_counts --> scanline_last_ind\n",
      "    scanline_intersection_counts --> scanline_first_ind\n",
      "```\n",
      "\n",
      "Distinct Traits for DicotPipeline: 52\n",
      "\n",
      "YoungerMonocotPipeline Mermaid graph written to YoungerMonocotPipeline_Mermaid_Graph.md\n",
      "Mermaid Graph for YoungerMonocotPipeline:\n",
      "```mermaid\n",
      "graph TD\n",
      "    primary_pts --> primary_max_length_pts\n",
      "    crown_pts --> pts_all_array\n",
      "    crown_pts --> crown_count\n",
      "    crown_pts --> crown_proximal_node_inds\n",
      "    crown_pts --> crown_distal_node_inds\n",
      "    crown_pts --> crown_lengths\n",
      "    crown_pts --> crown_base_pts\n",
      "    crown_pts --> crown_tip_pts\n",
      "    crown_pts --> scanline_intersection_counts\n",
      "    crown_pts --> crown_angles_distal\n",
      "    crown_distal_node_inds --> crown_angles_distal\n",
      "    crown_pts --> crown_angles_proximal\n",
      "    crown_proximal_node_inds --> crown_angles_proximal\n",
      "    crown_pts --> network_length_lower\n",
      "    bounding_box --> network_length_lower\n",
      "    crown_pts --> ellipse\n",
      "    crown_pts --> bounding_box\n",
      "    crown_pts --> convex_hull\n",
      "    primary_max_length_pts --> primary_proximal_node_ind\n",
      "    primary_max_length_pts --> primary_angle_proximal\n",
      "    primary_proximal_node_ind --> primary_angle_proximal\n",
      "    primary_max_length_pts --> primary_distal_node_ind\n",
      "    primary_max_length_pts --> primary_angle_distal\n",
      "    primary_distal_node_ind --> primary_angle_distal\n",
      "    primary_max_length_pts --> primary_length\n",
      "    primary_max_length_pts --> primary_base_pt\n",
      "    primary_max_length_pts --> primary_tip_pt\n",
      "    crown_tip_pts --> crown_tip_xs\n",
      "    crown_tip_pts --> crown_tip_ys\n",
      "    network_length --> network_distribution_ratio\n",
      "    network_length_lower --> network_distribution_ratio\n",
      "    crown_lengths --> network_length\n",
      "    crown_base_pts --> crown_base_tip_dists\n",
      "    crown_tip_pts --> crown_base_tip_dists\n",
      "    crown_base_pts --> crown_curve_indices\n",
      "    crown_tip_pts --> crown_curve_indices\n",
      "    network_length --> network_solidity\n",
      "    chull_area --> network_solidity\n",
      "    primary_tip_pt --> primary_tip_pt_y\n",
      "    ellipse --> ellipse_a\n",
      "    ellipse --> ellipse_b\n",
      "    bounding_box --> network_width_depth_ratio\n",
      "    convex_hull --> chull_perimeter\n",
      "    convex_hull --> chull_area\n",
      "    convex_hull --> chull_max_width\n",
      "    convex_hull --> chull_max_height\n",
      "    convex_hull --> chull_line_lengths\n",
      "    primary_length --> curve_index\n",
      "    primary_base_tip_dist --> curve_index\n",
      "    primary_base_pt --> primary_base_tip_dist\n",
      "    primary_tip_pt --> primary_base_tip_dist\n",
      "    ellipse --> ellipse_ratio\n",
      "    scanline_intersection_counts --> scanline_last_ind\n",
      "    scanline_intersection_counts --> scanline_first_ind\n",
      "```\n",
      "\n",
      "Distinct Traits for YoungerMonocotPipeline: 45\n",
      "\n",
      "OlderMonocotPipeline Mermaid graph written to OlderMonocotPipeline_Mermaid_Graph.md\n",
      "Mermaid Graph for OlderMonocotPipeline:\n",
      "```mermaid\n",
      "graph TD\n",
      "    crown_pts --> pts_all_array\n",
      "    crown_pts --> crown_count\n",
      "    crown_pts --> crown_proximal_node_inds\n",
      "    crown_pts --> crown_distal_node_inds\n",
      "    crown_pts --> crown_lengths\n",
      "    crown_pts --> crown_base_pts\n",
      "    crown_pts --> crown_tip_pts\n",
      "    crown_pts --> scanline_intersection_counts\n",
      "    crown_pts --> crown_angles_distal\n",
      "    crown_distal_node_inds --> crown_angles_distal\n",
      "    crown_pts --> crown_angles_proximal\n",
      "    crown_proximal_node_inds --> crown_angles_proximal\n",
      "    crown_pts --> network_length_lower\n",
      "    bounding_box --> network_length_lower\n",
      "    crown_pts --> ellipse\n",
      "    crown_pts --> bounding_box\n",
      "    crown_pts --> convex_hull\n",
      "    crown_tip_pts --> crown_tip_xs\n",
      "    crown_tip_pts --> crown_tip_ys\n",
      "    network_length --> network_distribution_ratio\n",
      "    network_length_lower --> network_distribution_ratio\n",
      "    crown_lengths --> network_length\n",
      "    crown_base_pts --> crown_base_tip_dists\n",
      "    crown_tip_pts --> crown_base_tip_dists\n",
      "    crown_base_pts --> crown_curve_indices\n",
      "    crown_tip_pts --> crown_curve_indices\n",
      "    network_length --> network_solidity\n",
      "    chull_area --> network_solidity\n",
      "    ellipse --> ellipse_a\n",
      "    ellipse --> ellipse_b\n",
      "    bounding_box --> network_width_depth_ratio\n",
      "    convex_hull --> chull_perimeter\n",
      "    convex_hull --> chull_area\n",
      "    convex_hull --> chull_max_width\n",
      "    convex_hull --> chull_max_height\n",
      "    convex_hull --> chull_line_lengths\n",
      "    ellipse --> ellipse_ratio\n",
      "    scanline_intersection_counts --> scanline_last_ind\n",
      "    scanline_intersection_counts --> scanline_first_ind\n",
      "    crown_pts --> crown_r1_pts\n",
      "    crown_base_pts --> chull_r1_intersection_vectors\n",
      "    crown_r1_pts --> chull_r1_intersection_vectors\n",
      "    crown_pts --> chull_r1_intersection_vectors\n",
      "    convex_hull --> chull_r1_intersection_vectors\n",
      "    chull_r1_intersection_vectors --> chull_r1_left_intersection_vector\n",
      "    chull_r1_intersection_vectors --> chull_r1_right_intersection_vector\n",
      "    chull_r1_left_intersection_vector --> angle_chull_r1_left_intersection_vector\n",
      "    chull_r1_right_intersection_vector --> angle_chull_r1_right_intersection_vector\n",
      "    crown_r1_pts --> chull_areas_r1_intersection\n",
      "    crown_pts --> chull_areas_r1_intersection\n",
      "    convex_hull --> chull_areas_r1_intersection\n",
      "    chull_areas_r1_intersection --> chull_area_above_r1_intersection\n",
      "    chull_areas_r1_intersection --> chull_area_below_r1_intersection\n",
      "```\n",
      "\n",
      "Distinct Traits for OlderMonocotPipeline: 42\n",
      "\n"
     ]
    }
   ],
   "source": [
    "pipelines = {\n",
    "    \"DicotPipeline\": DicotPipeline,\n",
    "    \"YoungerMonocotPipeline\": YoungerMonocotPipeline,\n",
    "    \"OlderMonocotPipeline\": OlderMonocotPipeline,\n",
    "}\n",
    "\n",
    "for name, pipeline in pipelines.items():\n",
    "    graph, distinct_traits = generate_mermaid_graph_and_write_to_file(pipeline, name)\n",
    "    print(f\"Mermaid Graph for {name}:\")\n",
    "    print(graph)\n",
    "    print(f\"Distinct Traits for {name}: {distinct_traits}\\n\")"
   ]
  }
 ],
 "metadata": {
  "kernelspec": {
   "display_name": "sleap-roots",
   "language": "python",
   "name": "python3"
  },
  "language_info": {
   "codemirror_mode": {
    "name": "ipython",
    "version": 3
   },
   "file_extension": ".py",
   "mimetype": "text/x-python",
   "name": "python",
   "nbconvert_exporter": "python",
   "pygments_lexer": "ipython3",
   "version": "3.9.16"
  }
 },
 "nbformat": 4,
 "nbformat_minor": 2
}
