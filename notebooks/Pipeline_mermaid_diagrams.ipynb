{
 "cells": [
  {
   "cell_type": "code",
   "execution_count": 3,
   "metadata": {},
   "outputs": [],
   "source": [
    "from sleap_roots import DicotPipeline, YoungerMonocotPipeline, OlderMonocotPipeline, MultipleDicotPipeline, Series, find_all_h5_paths, find_all_slp_paths, load_series_from_h5s, load_series_from_slps\n",
    "import pandas as pd\n",
    "import numpy as np\n",
    "from pathlib import Path\n",
    "\n",
    "from sleap_roots.trait_pipelines import (\n",
    "    DicotPipeline,\n",
    "    MultipleDicotPipeline,\n",
    "    YoungerMonocotPipeline,\n",
    "    OlderMonocotPipeline,\n",
    "    PrimaryRootPipeline,\n",
    "    LateralRootPipeline,\n",
    ")"
   ]
  },
  {
   "cell_type": "code",
   "execution_count": 4,
   "metadata": {},
   "outputs": [],
   "source": [
    "import base64\n",
    "import requests\n",
    "from IPython.display import Image, display\n",
    "\n",
    "def mm_ink(graphbytes):\n",
    "    \"\"\"Given a bytes object holding a Mermaid-format graph, return a URL that will generate the image.\"\"\"\n",
    "    base64_bytes = base64.b64encode(graphbytes)\n",
    "    base64_string = base64_bytes.decode(\"ascii\")\n",
    "    return \"https://mermaid.ink/img/\" + base64_string\n",
    "\n",
    "def mm_display(graphbytes):\n",
    "    \"\"\"Given a bytes object holding a Mermaid-format graph, display it.\"\"\"\n",
    "    display(Image(url=mm_ink(graphbytes)))\n",
    "\n",
    "def mm(graph):\n",
    "    \"\"\"Given a string containing a Mermaid-format graph, display it.\"\"\"\n",
    "    graphbytes = graph.encode(\"ascii\")\n",
    "    mm_display(graphbytes)\n",
    "\n",
    "def mm_link(graph):\n",
    "    \"\"\"Given a string containing a Mermaid-format graph, return URL for display.\"\"\"\n",
    "    graphbytes = graph.encode(\"ascii\")\n",
    "    return mm_ink(graphbytes)\n",
    "\n",
    "def mm_path(path):\n",
    "    \"\"\"Given a path to a file containing a Mermaid-format graph, display it\"\"\"\n",
    "    with open(path, 'rb') as f:\n",
    "        graphbytes = f.read()\n",
    "    mm_display(graphbytes)\n",
    "\n",
    "def save_mermaid_graph_image(graph, name):\n",
    "    \"\"\"Save the Mermaid graph image to a file.\"\"\"\n",
    "    graphbytes = graph.encode(\"ascii\")\n",
    "    url = mm_ink(graphbytes)\n",
    "    response = requests.get(url)\n",
    "    if response.status_code == 200:\n",
    "        image_file = f\"{name}_Mermaid_Graph.png\"\n",
    "        with open(image_file, 'wb') as file:\n",
    "            file.write(response.content)\n",
    "        print(f\"{name} Mermaid graph image saved to {image_file}\")\n",
    "    else:\n",
    "        print(\"Failed to fetch the Mermaid graph image.\")\n",
    "\n",
    "def generate_mermaid_graph_and_write_to_file(pipeline, name):\n",
    "    trait_definitions = pipeline().define_traits()\n",
    "    graph = \"graph LR\\n\"\n",
    "    unique_traits = set()\n",
    "\n",
    "    for trait_def in trait_definitions:\n",
    "        for input_trait in trait_def.input_traits:\n",
    "            graph += f\"    {input_trait} --> {trait_def.name}\\n\"\n",
    "            unique_traits.add(input_trait)\n",
    "            unique_traits.add(trait_def.name)\n",
    "    \n",
    "    # Write to a markdown file\n",
    "    markdown_graph = f\"```mermaid\\n{graph}```\\n\"\n",
    "    file_name = f\"{name}_Mermaid_Graph.md\"\n",
    "    with open(file_name, 'w') as file:\n",
    "        file.write(markdown_graph)\n",
    "        file.write(f\"\\nDistinct Traits for {name}: {len(unique_traits)}\\n\")\n",
    "    \n",
    "    print(f\"{name} Mermaid graph written to {file_name}\")\n",
    "    \n",
    "    # Display in Jupyter Notebook\n",
    "    try:\n",
    "        mm(graph)\n",
    "    except ImportError:\n",
    "        print(\"IPython is not available. The graph cannot be displayed in the notebook.\")\n",
    "    \n",
    "    # Save the image\n",
    "    save_mermaid_graph_image(graph, name)\n",
    "    \n",
    "    return markdown_graph, len(unique_traits)\n",
    "\n",
    "# Example usage\n",
    "# Assuming 'MyPipeline' is your pipeline class\n",
    "# graph, num_traits = generate_mermaid_graph_and_write_to_file(MyPipeline, \"MyPipeline\")\n"
   ]
  },
  {
   "cell_type": "code",
   "execution_count": 5,
   "metadata": {},
   "outputs": [],
   "source": [
    "younger_monocot_pipeline = YoungerMonocotPipeline() # Requires crown and primary root predictions\n",
    "older_monocot_pipeline = OlderMonocotPipeline() # Requires crown roots predictions\n",
    "dicot_pipeline = DicotPipeline() # Requires primary and lateral root predictions\n",
    "multiple_dicot_pipeline = MultipleDicotPipeline() # Requires primary and lateral root predictions, and CSV with expected plant count per cylinder\n",
    "primary_root_pipeline = PrimaryRootPipeline()\n",
    "lateral_root_pipeline = LateralRootPipeline()"
   ]
  },
  {
   "cell_type": "code",
   "execution_count": 6,
   "metadata": {},
   "outputs": [
    {
     "name": "stdout",
     "output_type": "stream",
     "text": [
      "PrimaryRootPipeline Mermaid graph written to PrimaryRootPipeline_Mermaid_Graph.md\n"
     ]
    },
    {
     "data": {
      "text/html": [
       "<img src=\"https://mermaid.ink/img/Z3JhcGggTFIKICAgIHByaW1hcnlfcHRzIC0tPiBwcmltYXJ5X21heF9sZW5ndGhfcHRzCiAgICBwcmltYXJ5X21heF9sZW5ndGhfcHRzIC0tPiBwcmltYXJ5X3Byb3hpbWFsX25vZGVfaW5kCiAgICBwcmltYXJ5X21heF9sZW5ndGhfcHRzIC0tPiBwcmltYXJ5X2Rpc3RhbF9ub2RlX2luZAogICAgcHJpbWFyeV9tYXhfbGVuZ3RoX3B0cyAtLT4gcHJpbWFyeV9hbmdsZV9wcm94aW1hbAogICAgcHJpbWFyeV9wcm94aW1hbF9ub2RlX2luZCAtLT4gcHJpbWFyeV9hbmdsZV9wcm94aW1hbAogICAgcHJpbWFyeV9tYXhfbGVuZ3RoX3B0cyAtLT4gcHJpbWFyeV9hbmdsZV9kaXN0YWwKICAgIHByaW1hcnlfZGlzdGFsX25vZGVfaW5kIC0tPiBwcmltYXJ5X2FuZ2xlX2Rpc3RhbAogICAgcHJpbWFyeV9tYXhfbGVuZ3RoX3B0cyAtLT4gcHJpbWFyeV9sZW5ndGgKICAgIHByaW1hcnlfbWF4X2xlbmd0aF9wdHMgLS0+IHByaW1hcnlfYmFzZV9wdAogICAgcHJpbWFyeV9tYXhfbGVuZ3RoX3B0cyAtLT4gcHJpbWFyeV90aXBfcHQKICAgIHByaW1hcnlfYmFzZV9wdCAtLT4gcHJpbWFyeV9iYXNlX3B0X3gKICAgIHByaW1hcnlfYmFzZV9wdCAtLT4gcHJpbWFyeV9iYXNlX3B0X3kKICAgIHByaW1hcnlfdGlwX3B0IC0tPiBwcmltYXJ5X3RpcF9wdF94CiAgICBwcmltYXJ5X3RpcF9wdCAtLT4gcHJpbWFyeV90aXBfcHRfeQogICAgcHJpbWFyeV9iYXNlX3B0IC0tPiBwcmltYXJ5X2Jhc2VfdGlwX2Rpc3QKICAgIHByaW1hcnlfdGlwX3B0IC0tPiBwcmltYXJ5X2Jhc2VfdGlwX2Rpc3QKICAgIHByaW1hcnlfbGVuZ3RoIC0tPiBjdXJ2ZV9pbmRleAogICAgcHJpbWFyeV9iYXNlX3RpcF9kaXN0IC0tPiBjdXJ2ZV9pbmRleAogICAgcHJpbWFyeV9tYXhfbGVuZ3RoX3B0cyAtLT4gYm91bmRpbmdfYm94Cg==\"/>"
      ],
      "text/plain": [
       "<IPython.core.display.Image object>"
      ]
     },
     "metadata": {},
     "output_type": "display_data"
    },
    {
     "name": "stdout",
     "output_type": "stream",
     "text": [
      "Failed to fetch the Mermaid graph image.\n",
      "Mermaid Graph for DicotPipeline:\n",
      "```mermaid\n",
      "graph LR\n",
      "    primary_pts --> primary_max_length_pts\n",
      "    primary_max_length_pts --> primary_proximal_node_ind\n",
      "    primary_max_length_pts --> primary_distal_node_ind\n",
      "    primary_max_length_pts --> primary_angle_proximal\n",
      "    primary_proximal_node_ind --> primary_angle_proximal\n",
      "    primary_max_length_pts --> primary_angle_distal\n",
      "    primary_distal_node_ind --> primary_angle_distal\n",
      "    primary_max_length_pts --> primary_length\n",
      "    primary_max_length_pts --> primary_base_pt\n",
      "    primary_max_length_pts --> primary_tip_pt\n",
      "    primary_base_pt --> primary_base_pt_x\n",
      "    primary_base_pt --> primary_base_pt_y\n",
      "    primary_tip_pt --> primary_tip_pt_x\n",
      "    primary_tip_pt --> primary_tip_pt_y\n",
      "    primary_base_pt --> primary_base_tip_dist\n",
      "    primary_tip_pt --> primary_base_tip_dist\n",
      "    ellipse --> ellipse_ratio\n",
      "    scanline_intersection_counts --> scanline_last_ind\n",
      "    scanline_intersection_counts --> scanline_first_ind\n",
      "```\n",
      "\n",
      "Distinct Traits for DicotPipeline: 52\n",
      "\n",
      "YoungerMonocotPipeline Mermaid graph written to YoungerMonocotPipeline_Mermaid_Graph.md\n"
     ]
    },
    {
     "data": {
      "text/html": [
       "<img src=\"https://mermaid.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\"/>"
      ],
      "text/plain": [
       "<IPython.core.display.Image object>"
      ]
     },
     "metadata": {},
     "output_type": "display_data"
    },
    {
     "name": "stdout",
     "output_type": "stream",
     "text": [
      "Failed to fetch the Mermaid graph image.\n",
      "Mermaid Graph for YoungerMonocotPipeline:\n",
      "```mermaid\n",
      "graph LR\n",
      "    primary_pts --> primary_max_length_pts\n",
      "    crown_pts --> pts_all_array\n",
      "    crown_pts --> crown_count\n",
      "    crown_pts --> crown_proximal_node_inds\n",
      "    crown_pts --> crown_distal_node_inds\n",
      "    crown_pts --> crown_lengths\n",
      "    crown_pts --> crown_base_pts\n",
      "    crown_pts --> crown_tip_pts\n",
      "    crown_pts --> scanline_intersection_counts\n",
      "    crown_pts --> crown_angles_distal\n",
      "    crown_distal_node_inds --> crown_angles_distal\n",
      "    crown_pts --> crown_angles_proximal\n",
      "    crown_proximal_node_inds --> crown_angles_proximal\n",
      "    crown_pts --> network_length_lower\n",
      "    bounding_box --> network_length_lower\n",
      "    crown_pts --> ellipse\n",
      "    crown_pts --> bounding_box\n",
      "    crown_pts --> convex_hull\n",
      "    primary_max_length_pts --> primary_proximal_node_ind\n",
      "    primary_max_length_pts --> primary_angle_proximal\n",
      "    primary_proximal_node_ind --> primary_angle_proximal\n",
      "    primary_max_length_pts --> primary_distal_node_ind\n",
      "    primary_max_length_pts --> primary_angle_distal\n",
      "    primary_distal_node_ind --> primary_angle_distal\n",
      "    primary_max_length_pts --> primary_length\n",
      "    primary_max_length_pts --> primary_base_pt\n",
      "    primary_max_length_pts --> primary_tip_pt\n",
      "    crown_tip_pts --> crown_tip_xs\n",
      "    crown_tip_pts --> crown_tip_ys\n",
      "    network_length --> network_distribution_ratio\n",
      "    network_length_lower --> network_distribution_ratio\n",
      "    crown_lengths --> network_length\n",
      "    crown_base_pts --> crown_base_tip_dists\n",
      "    crown_tip_pts --> crown_base_tip_dists\n",
      "    crown_lengths --> crown_curve_indices\n",
      "    crown_base_tip_dists --> crown_curve_indices\n",
      "    network_length --> network_solidity\n",
      "    chull_area --> network_solidity\n",
      "    primary_tip_pt --> primary_tip_pt_y\n",
      "    ellipse --> ellipse_a\n",
      "    ellipse --> ellipse_b\n",
      "    bounding_box --> network_width_depth_ratio\n",
      "    convex_hull --> chull_perimeter\n",
      "    convex_hull --> chull_area\n",
      "    convex_hull --> chull_max_width\n",
      "    convex_hull --> chull_max_height\n",
      "    convex_hull --> chull_line_lengths\n",
      "    primary_length --> curve_index\n",
      "    primary_base_tip_dist --> curve_index\n",
      "    primary_max_length_pts --> bounding_box\n",
      "```\n",
      "\n",
      "Distinct Traits for YoungerMonocotPipeline: 45\n",
      "\n",
      "OlderMonocotPipeline Mermaid graph written to OlderMonocotPipeline_Mermaid_Graph.md\n"
     ]
    },
    {
     "data": {
      "text/html": [
       "<img src=\"https://mermaid.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\"/>"
      ],
      "text/plain": [
       "<IPython.core.display.Image object>"
      ]
     },
     "metadata": {},
     "output_type": "display_data"
    },
    {
     "name": "stdout",
     "output_type": "stream",
     "text": [
      "Failed to fetch the Mermaid graph image.\n",
      "Mermaid Graph for OlderMonocotPipeline:\n",
      "```mermaid\n",
      "graph LR\n",
      "    crown_pts --> pts_all_array\n",
      "    crown_pts --> crown_count\n",
      "    crown_pts --> crown_proximal_node_inds\n",
      "    crown_pts --> crown_distal_node_inds\n",
      "    crown_pts --> crown_lengths\n",
      "    crown_pts --> crown_base_pts\n",
      "    crown_pts --> crown_tip_pts\n",
      "    crown_pts --> scanline_intersection_counts\n",
      "    crown_pts --> crown_angles_distal\n",
      "    crown_distal_node_inds --> crown_angles_distal\n",
      "    crown_pts --> crown_angles_proximal\n",
      "    crown_proximal_node_inds --> crown_angles_proximal\n",
      "    crown_pts --> network_length_lower\n",
      "    bounding_box --> network_length_lower\n",
      "    crown_pts --> ellipse\n",
      "    crown_pts --> bounding_box\n",
      "    crown_pts --> convex_hull\n",
      "    crown_tip_pts --> crown_tip_xs\n",
      "    crown_tip_pts --> crown_tip_ys\n",
      "    network_length --> network_distribution_ratio\n",
      "    network_length_lower --> network_distribution_ratio\n",
      "    crown_lengths --> network_length\n",
      "    crown_base_pts --> crown_base_tip_dists\n",
      "    crown_tip_pts --> crown_base_tip_dists\n",
      "    crown_lengths --> crown_curve_indices\n",
      "    crown_base_tip_dists --> crown_curve_indices\n",
      "    network_length --> network_solidity\n",
      "    chull_area --> network_solidity\n",
      "    ellipse --> ellipse_a\n",
      "    ellipse --> ellipse_b\n",
      "    bounding_box --> network_width_depth_ratio\n",
      "    convex_hull --> chull_perimeter\n",
      "    convex_hull --> chull_area\n",
      "    convex_hull --> chull_max_width\n",
      "    convex_hull --> chull_max_height\n",
      "    convex_hull --> chull_line_lengths\n",
      "    ellipse --> ellipse_ratio\n",
      "    scanline_intersection_counts --> scanline_last_ind\n",
      "    scanline_intersection_counts --> scanline_first_ind\n",
      "    crown_pts --> crown_r1_pts\n",
      "    crown_base_pts --> chull_r1_intersection_vectors\n",
      "    crown_r1_pts --> chull_r1_intersection_vectors\n",
      "    crown_pts --> chull_r1_intersection_vectors\n",
      "    convex_hull --> chull_r1_intersection_vectors\n",
      "    chull_r1_intersection_vectors --> chull_r1_left_intersection_vector\n",
      "    chull_r1_intersection_vectors --> chull_r1_right_intersection_vector\n",
      "    chull_r1_left_intersection_vector --> angle_chull_r1_left_intersection_vector\n",
      "    chull_r1_right_intersection_vector --> angle_chull_r1_right_intersection_vector\n",
      "    crown_r1_pts --> chull_areas_r1_intersection\n",
      "    crown_pts --> chull_areas_r1_intersection\n",
      "    convex_hull --> chull_areas_r1_intersection\n",
      "    chull_areas_r1_intersection --> chull_area_above_r1_intersection\n",
      "    chull_areas_r1_intersection --> chull_area_below_r1_intersection\n",
      "```\n",
      "\n",
      "Distinct Traits for OlderMonocotPipeline: 42\n",
      "\n",
      "MultipleDicotPipeline Mermaid graph written to MultipleDicotPipeline_Mermaid_Graph.md\n"
     ]
    },
    {
     "data": {
      "text/html": [
       "<img src=\"https://mermaid.ink/img/Z3JhcGggTFIKICAgIHByaW1hcnlfcHRzIC0tPiBwcmltYXJ5X3B0c19ub19uYW5zCiAgICBsYXRlcmFsX3B0cyAtLT4gbGF0ZXJhbF9wdHNfbm9fbmFucwogICAgcHJpbWFyeV9wdHNfbm9fbmFucyAtLT4gZmlsdGVyZWRfcHRzX2V4cGVjdGVkX3BsYW50X2N0CiAgICBsYXRlcmFsX3B0c19ub19uYW5zIC0tPiBmaWx0ZXJlZF9wdHNfZXhwZWN0ZWRfcGxhbnRfY3QKICAgIGV4cGVjdGVkX3BsYW50X2N0IC0tPiBmaWx0ZXJlZF9wdHNfZXhwZWN0ZWRfcGxhbnRfY3QKICAgIGZpbHRlcmVkX3B0c19leHBlY3RlZF9wbGFudF9jdCAtLT4gcHJpbWFyeV9wdHNfZXhwZWN0ZWRfcGxhbnRfY3QKICAgIGZpbHRlcmVkX3B0c19leHBlY3RlZF9wbGFudF9jdCAtLT4gbGF0ZXJhbF9wdHNfZXhwZWN0ZWRfcGxhbnRfY3QKICAgIHByaW1hcnlfcHRzX2V4cGVjdGVkX3BsYW50X2N0IC0tPiBwbGFudF9hc3NvY2lhdGlvbnNfZGljdAogICAgbGF0ZXJhbF9wdHNfZXhwZWN0ZWRfcGxhbnRfY3QgLS0+IHBsYW50X2Fzc29jaWF0aW9uc19kaWN0Cg==\"/>"
      ],
      "text/plain": [
       "<IPython.core.display.Image object>"
      ]
     },
     "metadata": {},
     "output_type": "display_data"
    },
    {
     "name": "stdout",
     "output_type": "stream",
     "text": [
      "Failed to fetch the Mermaid graph image.\n",
      "Mermaid Graph for MultipleDicotPipeline:\n",
      "```mermaid\n",
      "graph LR\n",
      "    primary_pts --> primary_pts_no_nans\n",
      "    lateral_pts --> lateral_pts_no_nans\n",
      "    primary_pts_no_nans --> filtered_pts_expected_plant_ct\n",
      "    lateral_pts_no_nans --> filtered_pts_expected_plant_ct\n",
      "    expected_plant_ct --> filtered_pts_expected_plant_ct\n",
      "    filtered_pts_expected_plant_ct --> primary_pts_expected_plant_ct\n",
      "    filtered_pts_expected_plant_ct --> lateral_pts_expected_plant_ct\n",
      "    primary_pts_expected_plant_ct --> plant_associations_dict\n",
      "    lateral_pts_expected_plant_ct --> plant_associations_dict\n",
      "```\n",
      "\n",
      "Distinct Traits for MultipleDicotPipeline: 9\n",
      "\n",
      "PrimaryRootPipeline Mermaid graph written to PrimaryRootPipeline_Mermaid_Graph.md\n"
     ]
    },
    {
     "data": {
      "text/html": [
       "<img src=\"https://mermaid.ink/img/Z3JhcGggTFIKICAgIHByaW1hcnlfcHRzIC0tPiBwcmltYXJ5X21heF9sZW5ndGhfcHRzCiAgICBwcmltYXJ5X21heF9sZW5ndGhfcHRzIC0tPiBwcmltYXJ5X3Byb3hpbWFsX25vZGVfaW5kCiAgICBwcmltYXJ5X21heF9sZW5ndGhfcHRzIC0tPiBwcmltYXJ5X2Rpc3RhbF9ub2RlX2luZAogICAgcHJpbWFyeV9tYXhfbGVuZ3RoX3B0cyAtLT4gcHJpbWFyeV9hbmdsZV9wcm94aW1hbAogICAgcHJpbWFyeV9wcm94aW1hbF9ub2RlX2luZCAtLT4gcHJpbWFyeV9hbmdsZV9wcm94aW1hbAogICAgcHJpbWFyeV9tYXhfbGVuZ3RoX3B0cyAtLT4gcHJpbWFyeV9hbmdsZV9kaXN0YWwKICAgIHByaW1hcnlfZGlzdGFsX25vZGVfaW5kIC0tPiBwcmltYXJ5X2FuZ2xlX2Rpc3RhbAogICAgcHJpbWFyeV9tYXhfbGVuZ3RoX3B0cyAtLT4gcHJpbWFyeV9sZW5ndGgKICAgIHByaW1hcnlfbWF4X2xlbmd0aF9wdHMgLS0+IHByaW1hcnlfYmFzZV9wdAogICAgcHJpbWFyeV9tYXhfbGVuZ3RoX3B0cyAtLT4gcHJpbWFyeV90aXBfcHQKICAgIHByaW1hcnlfYmFzZV9wdCAtLT4gcHJpbWFyeV9iYXNlX3B0X3gKICAgIHByaW1hcnlfYmFzZV9wdCAtLT4gcHJpbWFyeV9iYXNlX3B0X3kKICAgIHByaW1hcnlfdGlwX3B0IC0tPiBwcmltYXJ5X3RpcF9wdF94CiAgICBwcmltYXJ5X3RpcF9wdCAtLT4gcHJpbWFyeV90aXBfcHRfeQogICAgcHJpbWFyeV9iYXNlX3B0IC0tPiBwcmltYXJ5X2Jhc2VfdGlwX2Rpc3QKICAgIHByaW1hcnlfdGlwX3B0IC0tPiBwcmltYXJ5X2Jhc2VfdGlwX2Rpc3QKICAgIHByaW1hcnlfbGVuZ3RoIC0tPiBjdXJ2ZV9pbmRleAogICAgcHJpbWFyeV9iYXNlX3RpcF9kaXN0IC0tPiBjdXJ2ZV9pbmRleAogICAgcHJpbWFyeV9tYXhfbGVuZ3RoX3B0cyAtLT4gYm91bmRpbmdfYm94CiAgICBib3VuZGluZ19ib3ggLS0+IGJvdW5kaW5nX2JveF9sZWZ0X3gKICAgIGJvdW5kaW5nX2JveCAtLT4gYm91bmRpbmdfYm94X3RvcF95CiAgICBib3VuZGluZ19ib3ggLS0+IGJvdW5kaW5nX2JveF93aWR0aAogICAgYm91bmRpbmdfYm94IC0tPiBib3VuZGluZ19ib3hfaGVpZ2h0Cg==\"/>"
      ],
      "text/plain": [
       "<IPython.core.display.Image object>"
      ]
     },
     "metadata": {},
     "output_type": "display_data"
    },
    {
     "name": "stdout",
     "output_type": "stream",
     "text": [
      "Failed to fetch the Mermaid graph image.\n",
      "Mermaid Graph for PrimaryRootPipeline:\n",
      "```mermaid\n",
      "graph LR\n",
      "    primary_pts --> primary_max_length_pts\n",
      "    primary_max_length_pts --> primary_proximal_node_ind\n",
      "    primary_max_length_pts --> primary_distal_node_ind\n",
      "    primary_max_length_pts --> primary_angle_proximal\n",
      "    primary_proximal_node_ind --> primary_angle_proximal\n",
      "    primary_max_length_pts --> primary_angle_distal\n",
      "    primary_distal_node_ind --> primary_angle_distal\n",
      "    primary_max_length_pts --> primary_length\n",
      "    primary_max_length_pts --> primary_base_pt\n",
      "    primary_max_length_pts --> primary_tip_pt\n",
      "    primary_base_pt --> primary_base_pt_x\n",
      "    primary_base_pt --> primary_base_pt_y\n",
      "    primary_tip_pt --> primary_tip_pt_x\n",
      "    primary_tip_pt --> primary_tip_pt_y\n",
      "    primary_base_pt --> primary_base_tip_dist\n",
      "    primary_tip_pt --> primary_base_tip_dist\n",
      "    primary_length --> curve_index\n",
      "    primary_base_tip_dist --> curve_index\n",
      "    primary_max_length_pts --> bounding_box\n",
      "    bounding_box --> bounding_box_left_x\n",
      "    bounding_box --> bounding_box_top_y\n",
      "    bounding_box --> bounding_box_width\n",
      "    bounding_box --> bounding_box_height\n",
      "```\n",
      "\n",
      "Distinct Traits for PrimaryRootPipeline: 20\n",
      "\n",
      "LateralRootPipeline Mermaid graph written to LateralRootPipeline_Mermaid_Graph.md\n"
     ]
    },
    {
     "data": {
      "text/html": [
       "<img src=\"https://mermaid.ink/img/Z3JhcGggTFIKICAgIGxhdGVyYWxfcHRzIC0tPiBsYXRlcmFsX2NvdW50CiAgICBsYXRlcmFsX3B0cyAtLT4gbGF0ZXJhbF9wcm94aW1hbF9ub2RlX2luZHMKICAgIGxhdGVyYWxfcHRzIC0tPiBsYXRlcmFsX2Rpc3RhbF9ub2RlX2luZHMKICAgIGxhdGVyYWxfcHRzIC0tPiBsYXRlcmFsX2xlbmd0aHMKICAgIGxhdGVyYWxfbGVuZ3RocyAtLT4gdG90YWxfbGF0ZXJhbF9sZW5ndGgKICAgIGxhdGVyYWxfcHRzIC0tPiBsYXRlcmFsX2Jhc2VfcHRzCiAgICBsYXRlcmFsX3B0cyAtLT4gbGF0ZXJhbF90aXBfcHRzCiAgICBsYXRlcmFsX3B0cyAtLT4gbGF0ZXJhbF9hbmdsZXNfZGlzdGFsCiAgICBsYXRlcmFsX2Rpc3RhbF9ub2RlX2luZHMgLS0+IGxhdGVyYWxfYW5nbGVzX2Rpc3RhbAogICAgbGF0ZXJhbF9wdHMgLS0+IGxhdGVyYWxfYW5nbGVzX3Byb3hpbWFsCiAgICBsYXRlcmFsX3Byb3hpbWFsX25vZGVfaW5kcyAtLT4gbGF0ZXJhbF9hbmdsZXNfcHJveGltYWwKICAgIGxhdGVyYWxfYmFzZV9wdHMgLS0+IGxhdGVyYWxfYmFzZV94cwogICAgbGF0ZXJhbF9iYXNlX3B0cyAtLT4gbGF0ZXJhbF9iYXNlX3lzCiAgICBsYXRlcmFsX3RpcF9wdHMgLS0+IGxhdGVyYWxfdGlwX3hzCiAgICBsYXRlcmFsX3RpcF9wdHMgLS0+IGxhdGVyYWxfdGlwX3lzCg==\"/>"
      ],
      "text/plain": [
       "<IPython.core.display.Image object>"
      ]
     },
     "metadata": {},
     "output_type": "display_data"
    },
    {
     "name": "stdout",
     "output_type": "stream",
     "text": [
      "Failed to fetch the Mermaid graph image.\n",
      "Mermaid Graph for LateralRootPipeline:\n",
      "```mermaid\n",
      "graph LR\n",
      "    lateral_pts --> lateral_count\n",
      "    lateral_pts --> lateral_proximal_node_inds\n",
      "    lateral_pts --> lateral_distal_node_inds\n",
      "    lateral_pts --> lateral_lengths\n",
      "    lateral_lengths --> total_lateral_length\n",
      "    lateral_pts --> lateral_base_pts\n",
      "    lateral_pts --> lateral_tip_pts\n",
      "    lateral_pts --> lateral_angles_distal\n",
      "    lateral_distal_node_inds --> lateral_angles_distal\n",
      "    lateral_pts --> lateral_angles_proximal\n",
      "    lateral_proximal_node_inds --> lateral_angles_proximal\n",
      "    lateral_base_pts --> lateral_base_xs\n",
      "    lateral_base_pts --> lateral_base_ys\n",
      "    lateral_tip_pts --> lateral_tip_xs\n",
      "    lateral_tip_pts --> lateral_tip_ys\n",
      "```\n",
      "\n",
      "Distinct Traits for LateralRootPipeline: 14\n",
      "\n"
     ]
    }
   ],
   "source": [
    "pipelines = {\n",
    "    \"DicotPipeline\": DicotPipeline,\n",
    "    \"YoungerMonocotPipeline\": YoungerMonocotPipeline,\n",
    "    \"OlderMonocotPipeline\": OlderMonocotPipeline,\n",
    "    \"MultipleDicotPipeline\": MultipleDicotPipeline,\n",
    "    \"PrimaryRootPipeline\": PrimaryRootPipeline,\n",
    "    \"LateralRootPipeline\": LateralRootPipeline,\n",
    "}\n",
    "\n",
    "for name, pipeline in pipelines.items():\n",
    "    graph, distinct_traits = generate_mermaid_graph_and_write_to_file(pipeline, name)\n",
    "    print(f\"Mermaid Graph for {name}:\")\n",
    "    print(graph)\n",
    "    print(f\"Distinct Traits for {name}: {distinct_traits}\\n\")"
   ]
  },
  {
   "cell_type": "code",
   "execution_count": null,
   "metadata": {},
   "outputs": [],
   "source": []
  }
 ],
 "metadata": {
  "kernelspec": {
   "display_name": "sleap_roots_dev",
   "language": "python",
   "name": "python3"
  },
  "language_info": {
   "codemirror_mode": {
    "name": "ipython",
    "version": 3
   },
   "file_extension": ".py",
   "mimetype": "text/x-python",
   "name": "python",
   "nbconvert_exporter": "python",
   "pygments_lexer": "ipython3",
   "version": "3.11.10"
  }
 },
 "nbformat": 4,
 "nbformat_minor": 2
}
