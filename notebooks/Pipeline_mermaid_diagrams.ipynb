{
 "cells": [
  {
   "cell_type": "code",
   "execution_count": 1,
   "metadata": {},
   "outputs": [],
   "source": [
    "from sleap_roots import DicotPipeline, YoungerMonocotPipeline, OlderMonocotPipeline, MultipleDicotPipeline, Series, find_all_h5_paths, find_all_slp_paths, load_series_from_h5s, load_series_from_slps\n",
    "import pandas as pd\n",
    "import numpy as np\n",
    "from pathlib import Path\n",
    "\n",
    "from sleap_roots.trait_pipelines import (\n",
    "    DicotPipeline,\n",
    "    MultipleDicotPipeline,\n",
    "    YoungerMonocotPipeline,\n",
    "    OlderMonocotPipeline,\n",
    "    PrimaryRootPipeline\n",
    ")"
   ]
  },
  {
   "cell_type": "code",
   "execution_count": 2,
   "metadata": {},
   "outputs": [],
   "source": [
    "import base64\n",
    "import requests\n",
    "from IPython.display import Image, display\n",
    "\n",
    "def mm_ink(graphbytes):\n",
    "    \"\"\"Given a bytes object holding a Mermaid-format graph, return a URL that will generate the image.\"\"\"\n",
    "    base64_bytes = base64.b64encode(graphbytes)\n",
    "    base64_string = base64_bytes.decode(\"ascii\")\n",
    "    return \"https://mermaid.ink/img/\" + base64_string\n",
    "\n",
    "def mm_display(graphbytes):\n",
    "    \"\"\"Given a bytes object holding a Mermaid-format graph, display it.\"\"\"\n",
    "    display(Image(url=mm_ink(graphbytes)))\n",
    "\n",
    "def mm(graph):\n",
    "    \"\"\"Given a string containing a Mermaid-format graph, display it.\"\"\"\n",
    "    graphbytes = graph.encode(\"ascii\")\n",
    "    mm_display(graphbytes)\n",
    "\n",
    "def mm_link(graph):\n",
    "    \"\"\"Given a string containing a Mermaid-format graph, return URL for display.\"\"\"\n",
    "    graphbytes = graph.encode(\"ascii\")\n",
    "    return mm_ink(graphbytes)\n",
    "\n",
    "def mm_path(path):\n",
    "    \"\"\"Given a path to a file containing a Mermaid-format graph, display it\"\"\"\n",
    "    with open(path, 'rb') as f:\n",
    "        graphbytes = f.read()\n",
    "    mm_display(graphbytes)\n",
    "\n",
    "def save_mermaid_graph_image(graph, name):\n",
    "    \"\"\"Save the Mermaid graph image to a file.\"\"\"\n",
    "    graphbytes = graph.encode(\"ascii\")\n",
    "    url = mm_ink(graphbytes)\n",
    "    response = requests.get(url)\n",
    "    if response.status_code == 200:\n",
    "        image_file = f\"{name}_Mermaid_Graph.png\"\n",
    "        with open(image_file, 'wb') as file:\n",
    "            file.write(response.content)\n",
    "        print(f\"{name} Mermaid graph image saved to {image_file}\")\n",
    "    else:\n",
    "        print(\"Failed to fetch the Mermaid graph image.\")\n",
    "\n",
    "def generate_mermaid_graph_and_write_to_file(pipeline, name):\n",
    "    trait_definitions = pipeline().define_traits()\n",
    "    graph = \"graph LR\\n\"\n",
    "    unique_traits = set()\n",
    "\n",
    "    for trait_def in trait_definitions:\n",
    "        for input_trait in trait_def.input_traits:\n",
    "            graph += f\"    {input_trait} --> {trait_def.name}\\n\"\n",
    "            unique_traits.add(input_trait)\n",
    "            unique_traits.add(trait_def.name)\n",
    "    \n",
    "    # Write to a markdown file\n",
    "    markdown_graph = f\"```mermaid\\n{graph}```\\n\"\n",
    "    file_name = f\"{name}_Mermaid_Graph.md\"\n",
    "    with open(file_name, 'w') as file:\n",
    "        file.write(markdown_graph)\n",
    "        file.write(f\"\\nDistinct Traits for {name}: {len(unique_traits)}\\n\")\n",
    "    \n",
    "    print(f\"{name} Mermaid graph written to {file_name}\")\n",
    "    \n",
    "    # Display in Jupyter Notebook\n",
    "    try:\n",
    "        mm(graph)\n",
    "    except ImportError:\n",
    "        print(\"IPython is not available. The graph cannot be displayed in the notebook.\")\n",
    "    \n",
    "    # Save the image\n",
    "    save_mermaid_graph_image(graph, name)\n",
    "    \n",
    "    return markdown_graph, len(unique_traits)\n",
    "\n",
    "# Example usage\n",
    "# Assuming 'MyPipeline' is your pipeline class\n",
    "# graph, num_traits = generate_mermaid_graph_and_write_to_file(MyPipeline, \"MyPipeline\")\n"
   ]
  },
  {
   "cell_type": "code",
   "execution_count": 3,
   "metadata": {},
   "outputs": [],
   "source": [
    "younger_monocot_pipeline = YoungerMonocotPipeline() # Requires crown and primary root predictions\n",
    "older_monocot_pipeline = OlderMonocotPipeline() # Requires crown roots predictions\n",
    "dicot_pipeline = DicotPipeline() # Requires primary and lateral root predictions\n",
    "multiple_dicot_pipeline = MultipleDicotPipeline() # Requires primary and lateral root predictions, and CSV with expected plant count per cylinder\n",
    "primary_root_pipeline = PrimaryRootPipeline()"
   ]
  },
  {
   "cell_type": "code",
   "execution_count": 4,
   "metadata": {},
   "outputs": [
    {
     "name": "stdout",
     "output_type": "stream",
     "text": [
      "PrimaryRootPipeline Mermaid graph written to PrimaryRootPipeline_Mermaid_Graph.md\n"
     ]
    },
    {
     "data": {
      "text/html": [
       "<img src=\"https://mermaid.ink/img/Z3JhcGggTFIKICAgIHByaW1hcnlfcHRzIC0tPiBwcmltYXJ5X21heF9sZW5ndGhfcHRzCiAgICBwcmltYXJ5X21heF9sZW5ndGhfcHRzIC0tPiBwcmltYXJ5X3Byb3hpbWFsX25vZGVfaW5kCiAgICBwcmltYXJ5X21heF9sZW5ndGhfcHRzIC0tPiBwcmltYXJ5X2Rpc3RhbF9ub2RlX2luZAogICAgcHJpbWFyeV9tYXhfbGVuZ3RoX3B0cyAtLT4gcHJpbWFyeV9hbmdsZV9wcm94aW1hbAogICAgcHJpbWFyeV9wcm94aW1hbF9ub2RlX2luZCAtLT4gcHJpbWFyeV9hbmdsZV9wcm94aW1hbAogICAgcHJpbWFyeV9tYXhfbGVuZ3RoX3B0cyAtLT4gcHJpbWFyeV9hbmdsZV9kaXN0YWwKICAgIHByaW1hcnlfZGlzdGFsX25vZGVfaW5kIC0tPiBwcmltYXJ5X2FuZ2xlX2Rpc3RhbAogICAgcHJpbWFyeV9tYXhfbGVuZ3RoX3B0cyAtLT4gcHJpbWFyeV9sZW5ndGgKICAgIHByaW1hcnlfbWF4X2xlbmd0aF9wdHMgLS0+IHByaW1hcnlfYmFzZV9wdAogICAgcHJpbWFyeV9tYXhfbGVuZ3RoX3B0cyAtLT4gcHJpbWFyeV90aXBfcHQKICAgIHByaW1hcnlfYmFzZV9wdCAtLT4gcHJpbWFyeV9iYXNlX3B0X3gKICAgIHByaW1hcnlfYmFzZV9wdCAtLT4gcHJpbWFyeV9iYXNlX3B0X3kKICAgIHByaW1hcnlfdGlwX3B0IC0tPiBwcmltYXJ5X3RpcF9wdF94CiAgICBwcmltYXJ5X3RpcF9wdCAtLT4gcHJpbWFyeV90aXBfcHRfeQogICAgcHJpbWFyeV9iYXNlX3B0IC0tPiBwcmltYXJ5X2Jhc2VfdGlwX2Rpc3QKICAgIHByaW1hcnlfdGlwX3B0IC0tPiBwcmltYXJ5X2Jhc2VfdGlwX2Rpc3QKICAgIHByaW1hcnlfbGVuZ3RoIC0tPiBjdXJ2ZV9pbmRleAogICAgcHJpbWFyeV9iYXNlX3RpcF9kaXN0IC0tPiBjdXJ2ZV9pbmRleAogICAgcHJpbWFyeV9tYXhfbGVuZ3RoX3B0cyAtLT4gYm91bmRpbmdfYm94Cg==\"/>"
      ],
      "text/plain": [
       "<IPython.core.display.Image object>"
      ]
     },
     "metadata": {},
     "output_type": "display_data"
    },
    {
     "name": "stdout",
     "output_type": "stream",
     "text": [
      "PrimaryRootPipeline Mermaid graph image saved to PrimaryRootPipeline_Mermaid_Graph.png\n",
      "Mermaid Graph for PrimaryRootPipeline:\n",
      "```mermaid\n",
      "graph LR\n",
      "    primary_pts --> primary_max_length_pts\n",
      "    primary_max_length_pts --> primary_proximal_node_ind\n",
      "    primary_max_length_pts --> primary_distal_node_ind\n",
      "    primary_max_length_pts --> primary_angle_proximal\n",
      "    primary_proximal_node_ind --> primary_angle_proximal\n",
      "    primary_max_length_pts --> primary_angle_distal\n",
      "    primary_distal_node_ind --> primary_angle_distal\n",
      "    primary_max_length_pts --> primary_length\n",
      "    primary_max_length_pts --> primary_base_pt\n",
      "    primary_max_length_pts --> primary_tip_pt\n",
      "    primary_base_pt --> primary_base_pt_x\n",
      "    primary_base_pt --> primary_base_pt_y\n",
      "    primary_tip_pt --> primary_tip_pt_x\n",
      "    primary_tip_pt --> primary_tip_pt_y\n",
      "    primary_base_pt --> primary_base_tip_dist\n",
      "    primary_tip_pt --> primary_base_tip_dist\n",
      "    primary_length --> curve_index\n",
      "    primary_base_tip_dist --> curve_index\n",
      "    primary_max_length_pts --> bounding_box\n",
      "```\n",
      "\n",
      "Distinct Traits for PrimaryRootPipeline: 16\n",
      "\n"
     ]
    }
   ],
   "source": [
    "pipelines = {\n",
    "    #\"DicotPipeline\": DicotPipeline,\n",
    "    #\"YoungerMonocotPipeline\": YoungerMonocotPipeline,\n",
    "    #\"OlderMonocotPipeline\": OlderMonocotPipeline,\n",
    "    #\"MultipleDicotPipeline\": MultipleDicotPipeline,\n",
    "    \"PrimaryRootPipeline\": PrimaryRootPipeline\n",
    "}\n",
    "\n",
    "for name, pipeline in pipelines.items():\n",
    "    graph, distinct_traits = generate_mermaid_graph_and_write_to_file(pipeline, name)\n",
    "    print(f\"Mermaid Graph for {name}:\")\n",
    "    print(graph)\n",
    "    print(f\"Distinct Traits for {name}: {distinct_traits}\\n\")"
   ]
  },
  {
   "cell_type": "code",
   "execution_count": null,
   "metadata": {},
   "outputs": [],
   "source": []
  }
 ],
 "metadata": {
  "kernelspec": {
   "display_name": "sleap_roots_dev",
   "language": "python",
   "name": "python3"
  },
  "language_info": {
   "codemirror_mode": {
    "name": "ipython",
    "version": 3
   },
   "file_extension": ".py",
   "mimetype": "text/x-python",
   "name": "python",
   "nbconvert_exporter": "python",
   "pygments_lexer": "ipython3",
   "version": "3.11.11"
  }
 },
 "nbformat": 4,
 "nbformat_minor": 2
}
