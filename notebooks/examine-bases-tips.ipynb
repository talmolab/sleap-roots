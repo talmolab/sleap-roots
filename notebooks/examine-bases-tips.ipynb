{
 "cells": [
  {
   "cell_type": "code",
   "execution_count": 1,
   "id": "d81c5cb5",
   "metadata": {},
   "outputs": [
    {
     "name": "stdout",
     "output_type": "stream",
     "text": [
      "Starting directory: /Users/andrewoconnor/Projects/sleap-roots/notebooks\n",
      "Changed to directory: /Users/andrewoconnor/Projects/sleap-roots\n"
     ]
    }
   ],
   "source": [
    "import os\n",
    "from pathlib import Path\n",
    "\n",
    "# Print the current working directory\n",
    "starting_path = os.getcwd()\n",
    "\n",
    "# Change directory to sleap-roots\n",
    "if os.path.basename(os.getcwd()) == \"sleap-roots\":\n",
    "    pass\n",
    "else:\n",
    "    os.chdir(\"..\")\n",
    "    \n",
    "current_path = os.getcwd()\n",
    "\n",
    "print(f\"Starting directory: {starting_path}\")\n",
    "print(f\"Changed to directory: {current_path}\")\n",
    "\n",
    "import pandas as pd\n",
    "import numpy as np\n",
    "\n",
    "import sleap_roots as sr\n",
    "import sleap_io as sio\n",
    "\n",
    "from sleap_roots.bases import *\n",
    "from sleap_roots.tips import *"
   ]
  },
  {
   "cell_type": "code",
   "execution_count": null,
   "id": "03ee5e22",
   "metadata": {},
   "outputs": [],
   "source": []
  },
  {
   "cell_type": "code",
   "execution_count": 2,
   "id": "e55e5d9d",
   "metadata": {},
   "outputs": [
    {
     "name": "stdout",
     "output_type": "stream",
     "text": [
      "BASE INFO\n",
      "x: 0\n",
      "y: 0\n",
      "\n",
      "TIP INFO\n",
      "x: 4\n",
      "y: 4\n"
     ]
    }
   ],
   "source": [
    "# (instances, nodes, 2\n",
    "single_inst = np.array([[[0,0], [1, 1], [2,2], [3,3], [4,4]]])\n",
    "single_inst.shape\n",
    "\n",
    "base_pt_single_inst = get_bases(single_inst)\n",
    "tip_pt_single_inst = get_tips(single_inst)\n",
    "\n",
    "base_pt_x_single_inst = get_base_xs(base_pt_single_inst)\n",
    "tip_pt_x_single_inst = get_tip_xs(tip_pt_single_inst)\n",
    "\n",
    "base_pt_y_single_inst = get_base_ys(base_pt_single_inst)\n",
    "tip_pt_y_single_inst = get_tip_ys(tip_pt_single_inst)\n",
    "\n",
    "print(\"BASE INFO\")\n",
    "print(f\"x: {base_pt_x_single_inst}\")\n",
    "print(f\"y: {base_pt_y_single_inst}\")\n",
    "\n",
    "print()\n",
    "\n",
    "print(\"TIP INFO\")\n",
    "print(f\"x: {tip_pt_x_single_inst}\")\n",
    "print(f\"y: {tip_pt_y_single_inst}\")\n"
   ]
  },
  {
   "cell_type": "code",
   "execution_count": 3,
   "id": "f129954e",
   "metadata": {},
   "outputs": [],
   "source": [
    "folder_path = \"tests/data/canola_7do\"\n",
    "all_slps = sr.find_all_slp_paths(folder_path)\n",
    "\n",
    "series = sr.load_series_from_slps(all_slps, h5s=True)[0]"
   ]
  },
  {
   "cell_type": "code",
   "execution_count": 4,
   "id": "0d1af8b9",
   "metadata": {},
   "outputs": [
    {
     "data": {
      "text/plain": [
       "Series(series_name='919QDUH', h5_path='tests/data/canola_7do/919QDUH.h5', primary_path='tests/data/canola_7do/919QDUH.primary.predictions.slp', lateral_path='tests/data/canola_7do/919QDUH.lateral.predictions.slp', crown_path=None, primary_labels=Labels(labeled_frames=72, videos=1, skeletons=1, tracks=0, suggestions=0), lateral_labels=Labels(labeled_frames=72, videos=1, skeletons=1, tracks=0, suggestions=0), crown_labels=None, video=Video(filename=\"tests/data/canola_7do/919QDUH.h5\", shape=(72, 1080, 2048, 1), dataset=vol, backend=HDF5Video), csv_path=None)"
      ]
     },
     "execution_count": 4,
     "metadata": {},
     "output_type": "execute_result"
    }
   ],
   "source": [
    "series"
   ]
  },
  {
   "cell_type": "code",
   "execution_count": 5,
   "id": "2fd67dd1",
   "metadata": {},
   "outputs": [
    {
     "data": {
      "text/plain": [
       "(6, 2)"
      ]
     },
     "execution_count": 5,
     "metadata": {},
     "output_type": "execute_result"
    }
   ],
   "source": [
    "from sleap_roots.lengths import get_max_length_pts\n",
    "\n",
    "\n",
    "get_max_length_pts(series.get_primary_points(67)).shape"
   ]
  },
  {
   "cell_type": "code",
   "execution_count": 6,
   "id": "e0a7611c",
   "metadata": {},
   "outputs": [
    {
     "data": {
      "text/plain": [
       "array([[1093.03393555,  140.13084412],\n",
       "       [1248.5793457 ,  300.26016235],\n",
       "       [1316.03979492,  480.79904175],\n",
       "       [1324.23205566,  652.74291992],\n",
       "       [1332.38232422,  844.80493164],\n",
       "       [1267.95690918, 1024.90112305]])"
      ]
     },
     "execution_count": 6,
     "metadata": {},
     "output_type": "execute_result"
    }
   ],
   "source": [
    "primary_max_length_pts = get_max_length_pts(series.get_primary_points(64))\n",
    "primary_max_length_pts"
   ]
  },
  {
   "cell_type": "code",
   "execution_count": 7,
   "id": "f7753022",
   "metadata": {},
   "outputs": [
    {
     "data": {
      "text/plain": [
       "array([1267.95690918, 1024.90112305])"
      ]
     },
     "execution_count": 7,
     "metadata": {},
     "output_type": "execute_result"
    }
   ],
   "source": [
    "tip_pt = get_tips(primary_max_length_pts)\n",
    "tip_pt"
   ]
  },
  {
   "cell_type": "code",
   "execution_count": 19,
   "id": "aba873b4",
   "metadata": {},
   "outputs": [
    {
     "data": {
      "text/plain": [
       "(2, 2, 2)"
      ]
     },
     "execution_count": 19,
     "metadata": {},
     "output_type": "execute_result"
    }
   ],
   "source": [
    "tips_no_pts = np.array(\n",
    "    [\n",
    "        [\n",
    "            [1, 2],\n",
    "            [np.nan, np.nan],\n",
    "        ],\n",
    "        [\n",
    "            [5, 6],\n",
    "            [np.nan, np.nan],\n",
    "        ],\n",
    "    ]\n",
    ")\n",
    "\n",
    "tips_no_pts.shape"
   ]
  },
  {
   "cell_type": "code",
   "execution_count": 26,
   "id": "5c9e85eb",
   "metadata": {},
   "outputs": [
    {
     "data": {
      "text/plain": [
       "(2, 2)"
      ]
     },
     "execution_count": 26,
     "metadata": {},
     "output_type": "execute_result"
    }
   ],
   "source": [
    "tips = get_tips(tips_no_pts)\n",
    "tips.shape"
   ]
  },
  {
   "cell_type": "code",
   "execution_count": null,
   "id": "cc836fab",
   "metadata": {},
   "outputs": [
    {
     "data": {
      "text/plain": [
       "(2,)"
      ]
     },
     "execution_count": 25,
     "metadata": {},
     "output_type": "execute_result"
    }
   ],
   "source": [
    "get_tip_xs(tips)"
   ]
  },
  {
   "cell_type": "code",
   "execution_count": 18,
   "id": "753cb3b1",
   "metadata": {},
   "outputs": [
    {
     "data": {
      "text/plain": [
       "()"
      ]
     },
     "execution_count": 18,
     "metadata": {},
     "output_type": "execute_result"
    }
   ],
   "source": [
    "np.float64(123.356).shape"
   ]
  },
  {
   "cell_type": "code",
   "execution_count": null,
   "id": "9fbf7fc5",
   "metadata": {},
   "outputs": [
    {
     "data": {
      "text/plain": [
       "array([[nan, nan]])"
      ]
     },
     "execution_count": 28,
     "metadata": {},
     "output_type": "execute_result"
    }
   ],
   "source": [
    "# single instance root\n",
    "tips[[0]]"
   ]
  },
  {
   "cell_type": "code",
   "execution_count": 27,
   "id": "4ba64ae8",
   "metadata": {},
   "outputs": [
    {
     "data": {
      "text/plain": [
       "np.float64(nan)"
      ]
     },
     "execution_count": 27,
     "metadata": {},
     "output_type": "execute_result"
    }
   ],
   "source": [
    "get_tip_xs(tips[[0]])"
   ]
  },
  {
   "cell_type": "code",
   "execution_count": null,
   "id": "c151633b",
   "metadata": {},
   "outputs": [],
   "source": []
  }
 ],
 "metadata": {
  "kernelspec": {
   "display_name": "sleap_roots_dev",
   "language": "python",
   "name": "python3"
  },
  "language_info": {
   "codemirror_mode": {
    "name": "ipython",
    "version": 3
   },
   "file_extension": ".py",
   "mimetype": "text/x-python",
   "name": "python",
   "nbconvert_exporter": "python",
   "pygments_lexer": "ipython3",
   "version": "3.11.11"
  }
 },
 "nbformat": 4,
 "nbformat_minor": 5
}
