{
 "cells": [
  {
   "cell_type": "code",
   "execution_count": 1,
   "metadata": {},
   "outputs": [],
   "source": [
    "import numpy as np\n",
    "import matplotlib.pyplot as plt\n",
    "import pandas as pd\n",
    "import os\n",
    "import seaborn as sns\n",
    "\n",
    "# Import the sleap_roots package\n",
    "import sleap_roots as sr\n",
    "\n",
    "from pathlib import Path\n",
    "\n",
    "# Use the following notation to import individual functions from the sleap_roots package\n",
    "from sleap_roots.points import get_all_pts_array, get_nodes\n",
    "from sleap_roots.convhull import get_convhull, get_chull_area, get_chull_perimeter, get_chull_intersection_vectors\n",
    "from sleap_roots.lengths import get_root_lengths, get_curve_index\n",
    "from sleap_roots.bases import get_bases, get_base_tip_dist\n",
    "from sleap_roots.tips import get_tips"
   ]
  },
  {
   "cell_type": "markdown",
   "metadata": {},
   "source": [
    "The `OlderMonocotPipeline` was constructed for single, monocot plants in cylinders with 72 frame image series.  \n",
    "The monocot is usually more than 6 days-old or when the primary root is not obvious.     \n",
    "It expects h5 files, and crown root predictions per cylinder. "
   ]
  },
  {
   "cell_type": "code",
   "execution_count": 2,
   "metadata": {},
   "outputs": [
    {
     "name": "stdout",
     "output_type": "stream",
     "text": [
      "0.1.2\n"
     ]
    }
   ],
   "source": [
    "# Print sleap_roots version\n",
    "print(sr.__version__)"
   ]
  },
  {
   "cell_type": "code",
   "execution_count": 3,
   "metadata": {},
   "outputs": [
    {
     "name": "stdout",
     "output_type": "stream",
     "text": [
      "Current directory: c:\\repos\\sleap-roots\\notebooks\n"
     ]
    }
   ],
   "source": [
    "# Get the current working directory\n",
    "current_directory = os.getcwd()\n",
    "\n",
    "# Print the current working directory\n",
    "print(\"Current directory:\", current_directory)"
   ]
  },
  {
   "cell_type": "code",
   "execution_count": 4,
   "metadata": {},
   "outputs": [
    {
     "name": "stdout",
     "output_type": "stream",
     "text": [
      "Updated current directory: C:\\repos\\sleap-roots\n"
     ]
    }
   ],
   "source": [
    "# Use this cell if you want to change the current working directory\n",
    "\n",
    "# Define the directory you want to change to\n",
    "new_directory = \"C:/repos/sleap-roots\"\n",
    "\n",
    "# Change the current working directory\n",
    "os.chdir(new_directory)\n",
    "\n",
    "# Get the updated current working directory\n",
    "updated_directory = os.getcwd()\n",
    "\n",
    "# Print the updated current working directory\n",
    "print(\"Updated current directory:\", updated_directory)\n"
   ]
  },
  {
   "cell_type": "code",
   "execution_count": 5,
   "metadata": {},
   "outputs": [],
   "source": [
    "# Change these variables for your own data\n",
    "folder_path = \"tests/data/rice_10do_pipeline_output\" # Location of images and predictions for older monocots\n",
    "crown_name = \"crown\" # For loading crown root predictions"
   ]
  },
  {
   "cell_type": "code",
   "execution_count": 6,
   "metadata": {},
   "outputs": [
    {
     "data": {
      "text/plain": [
       "['tests/data/rice_10do_pipeline_output/scan0K9E8BI.model123.rootcrown.slp',\n",
       " 'tests/data/rice_10do_pipeline_output/scan_7859150.model_221208_113552.multi_instance.n=574.root_crown.slp']"
      ]
     },
     "execution_count": 6,
     "metadata": {},
     "output_type": "execute_result"
    }
   ],
   "source": [
    "# Find slp files in the folder\n",
    "slp_files = sr.find_all_slp_paths(folder_path)\n",
    "slp_files"
   ]
  },
  {
   "cell_type": "code",
   "execution_count": 7,
   "metadata": {},
   "outputs": [
    {
     "data": {
      "text/plain": [
       "[Series(series_name='scan_7859150', h5_path=None, primary_path=None, lateral_path=None, crown_path='tests/data/rice_10do_pipeline_output/scan_7859150.model_221208_113552.multi_instance.n=574.root_crown.slp', primary_labels=None, lateral_labels=None, crown_labels=Labels(labeled_frames=72, videos=1, skeletons=1, tracks=0, suggestions=0), video=None, csv_path=None),\n",
       " Series(series_name='scan0K9E8BI', h5_path=None, primary_path=None, lateral_path=None, crown_path='tests/data/rice_10do_pipeline_output/scan0K9E8BI.model123.rootcrown.slp', primary_labels=None, lateral_labels=None, crown_labels=Labels(labeled_frames=72, videos=1, skeletons=1, tracks=0, suggestions=0), video=None, csv_path=None)]"
      ]
     },
     "execution_count": 7,
     "metadata": {},
     "output_type": "execute_result"
    }
   ],
   "source": [
    "# Load the slp files\n",
    "all_series = sr.load_series_from_slps(slp_files)\n",
    "all_series\n"
   ]
  },
  {
   "cell_type": "markdown",
   "metadata": {},
   "source": [
    "Example usage for one sample"
   ]
  },
  {
   "cell_type": "code",
   "execution_count": 8,
   "metadata": {},
   "outputs": [
    {
     "name": "stdout",
     "output_type": "stream",
     "text": [
      "First sample has name scan0K9E8BI\n",
      "First sample has crown labels: Labels(labeled_frames=72, videos=1, skeletons=1, tracks=0, suggestions=0)\n",
      "First sample has crown labels located at tests/data/rice_10do_pipeline_output/scan0K9E8BI.model123.rootcrown.slp\n"
     ]
    }
   ],
   "source": [
    "# Get the first series in the list\n",
    "series = all_series[1]\n",
    "print(f\"First sample has name {series.series_name}\")\n",
    "print(f\"First sample has crown labels: {series.crown_labels}\")\n",
    "print(f\"First sample has crown labels located at {series.crown_path}\")"
   ]
  },
  {
   "cell_type": "code",
   "execution_count": 9,
   "metadata": {},
   "outputs": [
    {
     "name": "stdout",
     "output_type": "stream",
     "text": [
      "Shape of crown points: (4, 6, 2)\n"
     ]
    }
   ],
   "source": [
    "# Get the crown root points for the first frame\n",
    "crown_pts = series.get_crown_points(0)\n",
    "print(f\"Shape of crown points: {crown_pts.shape}\")"
   ]
  },
  {
   "cell_type": "code",
   "execution_count": 10,
   "metadata": {},
   "outputs": [
    {
     "name": "stdout",
     "output_type": "stream",
     "text": [
      "crown root lengths shape is (4,)\n"
     ]
    }
   ],
   "source": [
    "# Get crown root lengths for the first frame\n",
    "crown_lengths = get_root_lengths(crown_pts)\n",
    "print(f\"crown root lengths shape is {crown_lengths.shape}\")"
   ]
  },
  {
   "cell_type": "code",
   "execution_count": 11,
   "metadata": {},
   "outputs": [
    {
     "name": "stdout",
     "output_type": "stream",
     "text": [
      "Average base to tip distance is 535.7640120955366 px\n",
      "Average curve index of crown roots is 0.011777935773599708\n"
     ]
    }
   ],
   "source": [
    "# Get base point of the crown roots\n",
    "crown_bases = get_bases(crown_pts)\n",
    "\n",
    "# Get tip point of the crown roots\n",
    "crown_tips = get_tips(crown_pts)\n",
    "\n",
    "# Get the distance between the base and tip of the crown roots\n",
    "base_tip_dists = get_base_tip_dist(crown_bases, crown_tips)\n",
    "print(f\"Average base to tip distance is {np.nanmean(base_tip_dists)} px\")\n",
    "\n",
    "# Get the curve index (measure of curvature between 0 and 1) of the crown roots\n",
    "curve_indices = get_curve_index(crown_lengths, base_tip_dists)\n",
    "print(f\"Average curve index of crown roots is {np.nanmean(curve_indices)}\")"
   ]
  },
  {
   "cell_type": "code",
   "execution_count": 12,
   "metadata": {},
   "outputs": [
    {
     "name": "stdout",
     "output_type": "stream",
     "text": [
      "Shape of all points: (24, 2)\n",
      "Area of convex hull is 86421.99331837709 px^2\n",
      "Perimeter of convex hull is 1423.6432096235853 px\n",
      "Shape of crown first node points: (4, 2)\n",
      "Intersection vectors: (array([[nan, nan]]), array([[nan, nan]]))\n"
     ]
    },
    {
     "name": "stderr",
     "output_type": "stream",
     "text": [
      "c:\\Users\\eb\\Miniforge3\\envs\\sleap_roots_dev\\Lib\\site-packages\\shapely\\creation.py:119: RuntimeWarning: invalid value encountered in linestrings\n",
      "  return lib.linestrings(coords, out=out, **kwargs)\n"
     ]
    }
   ],
   "source": [
    "# Aggregate the crown points in one flattened array\n",
    "all_pts = get_all_pts_array(crown_pts)\n",
    "print(f\"Shape of all points: {all_pts.shape}\")\n",
    "\n",
    "# Get the convex hull of the crown points\n",
    "convhull = get_convhull(all_pts)\n",
    "\n",
    "# Get the area of the convex hull\n",
    "chull_area = get_chull_area(convhull)\n",
    "print(f\"Area of convex hull is {chull_area} px^2\")\n",
    "\n",
    "# Get the perimeter of the convex hull\n",
    "chull_perimeter = get_chull_perimeter(convhull)\n",
    "print(f\"Perimeter of convex hull is {chull_perimeter} px\")\n",
    "\n",
    "# Get the first nodes of the crown roots\n",
    "crown_r1_pts = get_nodes(crown_pts, 1)\n",
    "print(f\"Shape of crown first node points: {crown_r1_pts.shape}\")\n",
    "\n",
    "# Get the intersection of the convex hull with the first nodes of the crown roots\n",
    "chull_r1_intersection_vectors = get_chull_intersection_vectors(crown_bases, crown_r1_pts, crown_pts, convhull)\n",
    "print(f\"Intersection vectors: {chull_r1_intersection_vectors}\")"
   ]
  },
  {
   "cell_type": "code",
   "execution_count": 13,
   "metadata": {},
   "outputs": [
    {
     "data": {
      "text/plain": [
       "(4, 6, 2)"
      ]
     },
     "execution_count": 13,
     "metadata": {},
     "output_type": "execute_result"
    }
   ],
   "source": [
    "crown_pts.shape"
   ]
  },
  {
   "cell_type": "code",
   "execution_count": 14,
   "metadata": {},
   "outputs": [
    {
     "data": {
      "text/plain": [
       "array([1080.25915527,  220.52322388])"
      ]
     },
     "execution_count": 14,
     "metadata": {},
     "output_type": "execute_result"
    }
   ],
   "source": [
    "crown_bases[0]"
   ]
  },
  {
   "cell_type": "code",
   "execution_count": 15,
   "metadata": {},
   "outputs": [
    {
     "data": {
      "text/plain": [
       "np.float64(1080.2591552734375)"
      ]
     },
     "execution_count": 15,
     "metadata": {},
     "output_type": "execute_result"
    }
   ],
   "source": [
    "crown_bases[0, 0]"
   ]
  },
  {
   "cell_type": "code",
   "execution_count": 16,
   "metadata": {},
   "outputs": [
    {
     "data": {
      "image/png": "[encoded data removed]",
      "text/plain": [
       "<Figure size 640x480 with 1 Axes>"
      ]
     },
     "metadata": {},
     "output_type": "display_data"
    }
   ],
   "source": [
    "plt.figure()\n",
    "\n",
    "# Plot the crown root points\n",
    "plt.scatter(crown_pts[:, :, 0], crown_pts[:, :, 1])\n",
    "\n",
    "# Plot the convex hull\n",
    "for simplex in convhull.simplices:\n",
    "    plt.plot(convhull.points[simplex, 0], convhull.points[simplex, 1], 'k-')\n",
    "\n",
    "# Plot the crown root bases\n",
    "plt.scatter(crown_bases[:, 0], crown_bases[:, 1], color='red')\n",
    "\n",
    "# Plot the first nodes of the crown roots\n",
    "plt.scatter(crown_r1_pts[:, 0], crown_r1_pts[:, 1], color='green')\n",
    "\n",
    "# Plot the intersection vectors of the convex hull with the line across the first nodes of the crown roots\n",
    "left_vector = chull_r1_intersection_vectors[0]\n",
    "right_vector = chull_r1_intersection_vectors[1]\n",
    "# Plot the left intersection vector from the first crown base\n",
    "plt.plot([crown_bases[0, 0], crown_bases[0, 0] + left_vector[0, 0]], \n",
    "         [crown_bases[0, 1], crown_bases[0, 1] + left_vector[0, 1]], color='blue')\n",
    "\n",
    "# Plot the right intersection vector from the second crown base\n",
    "plt.plot([crown_bases[1, 0], crown_bases[1, 0] + right_vector[0, 0]], \n",
    "         [crown_bases[1, 1], crown_bases[1, 1] + right_vector[0, 1]], color='blue')\n",
    "\n",
    "plt.title(\"Crown root points and convex hull for first frame of first sample\")\n",
    "plt.gca().invert_yaxis()"
   ]
  },
  {
   "cell_type": "code",
   "execution_count": 17,
   "metadata": {},
   "outputs": [
    {
     "name": "stdout",
     "output_type": "stream",
     "text": [
      "Getting chull r1 intersection vectors for frame 0\n",
      "Getting chull r1 intersection vectors for frame 1\n",
      "Getting chull r1 intersection vectors for frame 2\n",
      "Getting chull r1 intersection vectors for frame 3\n",
      "Getting chull r1 intersection vectors for frame 4\n",
      "Getting chull r1 intersection vectors for frame 5\n",
      "Getting chull r1 intersection vectors for frame 6\n",
      "Getting chull r1 intersection vectors for frame 7\n",
      "Getting chull r1 intersection vectors for frame 8\n",
      "Getting chull r1 intersection vectors for frame 9\n",
      "Getting chull r1 intersection vectors for frame 10\n",
      "Getting chull r1 intersection vectors for frame 11\n",
      "Getting chull r1 intersection vectors for frame 12\n",
      "Getting chull r1 intersection vectors for frame 13\n",
      "Getting chull r1 intersection vectors for frame 14\n",
      "Getting chull r1 intersection vectors for frame 15\n",
      "Getting chull r1 intersection vectors for frame 16\n",
      "Getting chull r1 intersection vectors for frame 17\n",
      "Getting chull r1 intersection vectors for frame 18\n",
      "Getting chull r1 intersection vectors for frame 19\n",
      "Getting chull r1 intersection vectors for frame 20\n",
      "Getting chull r1 intersection vectors for frame 21\n",
      "Getting chull r1 intersection vectors for frame 22\n",
      "Getting chull r1 intersection vectors for frame 23\n",
      "Getting chull r1 intersection vectors for frame 24\n",
      "Getting chull r1 intersection vectors for frame 25\n",
      "Getting chull r1 intersection vectors for frame 26\n",
      "Getting chull r1 intersection vectors for frame 27\n",
      "Getting chull r1 intersection vectors for frame 28\n",
      "Getting chull r1 intersection vectors for frame 29\n",
      "Getting chull r1 intersection vectors for frame 30\n",
      "Getting chull r1 intersection vectors for frame 31\n",
      "Getting chull r1 intersection vectors for frame 32\n",
      "Getting chull r1 intersection vectors for frame 33\n",
      "Getting chull r1 intersection vectors for frame 34\n",
      "Getting chull r1 intersection vectors for frame 35\n",
      "Getting chull r1 intersection vectors for frame 36\n",
      "Getting chull r1 intersection vectors for frame 37\n",
      "Getting chull r1 intersection vectors for frame 38\n",
      "Getting chull r1 intersection vectors for frame 39\n",
      "Getting chull r1 intersection vectors for frame 40\n",
      "Getting chull r1 intersection vectors for frame 41\n",
      "Getting chull r1 intersection vectors for frame 42\n",
      "Getting chull r1 intersection vectors for frame 43\n",
      "Getting chull r1 intersection vectors for frame 44\n",
      "Getting chull r1 intersection vectors for frame 45\n",
      "Getting chull r1 intersection vectors for frame 46\n",
      "Getting chull r1 intersection vectors for frame 47\n",
      "Getting chull r1 intersection vectors for frame 48\n",
      "Getting chull r1 intersection vectors for frame 49\n",
      "Getting chull r1 intersection vectors for frame 50\n",
      "Getting chull r1 intersection vectors for frame 51\n",
      "Getting chull r1 intersection vectors for frame 52\n",
      "Getting chull r1 intersection vectors for frame 53\n",
      "Getting chull r1 intersection vectors for frame 54\n",
      "Getting chull r1 intersection vectors for frame 55\n",
      "Getting chull r1 intersection vectors for frame 56\n",
      "Getting chull r1 intersection vectors for frame 57\n",
      "Getting chull r1 intersection vectors for frame 58\n",
      "Getting chull r1 intersection vectors for frame 59\n",
      "Getting chull r1 intersection vectors for frame 60\n",
      "Getting chull r1 intersection vectors for frame 61\n",
      "Getting chull r1 intersection vectors for frame 62\n",
      "Getting chull r1 intersection vectors for frame 63\n",
      "Getting chull r1 intersection vectors for frame 64\n",
      "Getting chull r1 intersection vectors for frame 65\n",
      "Getting chull r1 intersection vectors for frame 66\n",
      "Getting chull r1 intersection vectors for frame 67\n",
      "Getting chull r1 intersection vectors for frame 68\n",
      "Getting chull r1 intersection vectors for frame 69\n",
      "Getting chull r1 intersection vectors for frame 70\n",
      "Getting chull r1 intersection vectors for frame 71\n"
     ]
    }
   ],
   "source": [
    "# Get the chull r1 intersection vectors for all frames\n",
    "chull_r1_intersection_vectors_all_frames = []\n",
    "for i in range(len(series)):\n",
    "    print(f\"Getting chull r1 intersection vectors for frame {i}\")\n",
    "    crown_pts = series.get_crown_points(i)\n",
    "    crown_bases = get_bases(crown_pts)\n",
    "    crown_r1_pts = get_nodes(crown_pts, 1)\n",
    "    chull_r1_intersection_vectors = get_chull_intersection_vectors(crown_bases, crown_r1_pts, crown_pts, convhull)\n",
    "    chull_r1_intersection_vectors_all_frames.append(chull_r1_intersection_vectors)"
   ]
  },
  {
   "cell_type": "code",
   "execution_count": 15,
   "metadata": {},
   "outputs": [
    {
     "name": "stdout",
     "output_type": "stream",
     "text": [
      "Cannot compute convex hull: not enough unique points.\n",
      "Cannot compute convex hull: not enough unique points.\n",
      "Cannot compute convex hull: not enough unique points.\n",
      "Cannot compute convex hull: not enough unique points.\n",
      "Cannot compute convex hull: not enough unique points.\n",
      "Cannot compute convex hull: not enough unique points.\n",
      "Cannot compute convex hull: not enough unique points.\n",
      "Cannot compute convex hull: not enough unique points.\n",
      "Cannot compute convex hull: not enough unique points.\n",
      "Cannot compute convex hull: not enough unique points.\n",
      "Cannot compute convex hull: not enough unique points.\n",
      "Cannot compute convex hull: not enough unique points.\n",
      "Cannot compute convex hull: not enough unique points.\n",
      "Cannot compute convex hull: not enough unique points.\n",
      "Cannot compute convex hull: not enough unique points.\n",
      "Cannot compute convex hull: not enough unique points.\n",
      "Cannot compute convex hull: not enough unique points.\n",
      "Cannot compute convex hull: not enough unique points.\n",
      "Cannot compute convex hull: not enough unique points.\n",
      "Cannot compute convex hull: not enough unique points.\n",
      "Cannot compute convex hull: not enough unique points.\n",
      "Cannot compute convex hull: not enough unique points.\n",
      "Cannot compute convex hull: not enough unique points.\n",
      "Cannot compute convex hull: not enough unique points.\n",
      "Cannot compute convex hull: not enough unique points.\n",
      "Cannot compute convex hull: not enough unique points.\n",
      "Cannot compute convex hull: not enough unique points.\n",
      "Cannot compute convex hull: not enough unique points.\n",
      "Cannot compute convex hull: not enough unique points.\n",
      "Cannot compute convex hull: not enough unique points.\n",
      "Cannot compute convex hull: not enough unique points.\n"
     ]
    },
    {
     "data": {
      "image/png": "[encoded data removed]",
      "text/plain": [
       "<Figure size 600x600 with 1 Axes>"
      ]
     },
     "metadata": {},
     "output_type": "display_data"
    }
   ],
   "source": [
    "# Find the frame with the largest convex hull area and plot it\n",
    "\n",
    "# Initialize lists to store the convex hull areas\n",
    "hull, area = [], []\n",
    "\n",
    "# Run convex hull features on all frames for crown roots\n",
    "for i in range(len(series)):\n",
    "    # Get crown root points\n",
    "    crown_pts = series.get_crown_points(i)\n",
    "    # Aggregate the crown points in one flattened array\n",
    "    all_pts = get_all_pts_array(crown_pts)\n",
    "\n",
    "    # Get the convex hull of the crown points\n",
    "    convhull = get_convhull(all_pts)\n",
    "    # Get the area of the convex hull\n",
    "    chull_area = get_chull_area(convhull)\n",
    "\n",
    "    # Append the convex hull and convex hull area to the lists\n",
    "    hull.append(convhull)\n",
    "    area.append(chull_area)\n",
    "\n",
    "    \n",
    "# Frame with the max convex hull area\n",
    "idx_max_area = np.nanargmax(area)\n",
    "\n",
    "# Plot convex hull of frame with the max width\n",
    "fig, ax = plt.subplots(figsize=(6, 6))\n",
    "\n",
    "ax.plot(hull[idx_max_area].points[:,0], hull[idx_max_area].points[:,1], 'o')\n",
    "for simplex in hull[idx_max_area].simplices:\n",
    "    ax.plot(hull[idx_max_area].points[simplex, 0], hull[idx_max_area].points[simplex, 1], 'k-')\n",
    "\n",
    "plt.title(f\"Convex Hull {series.series_name} with Max Area at Frame {idx_max_area}\")    \n",
    "plt.xlim([800, 1200])\n",
    "plt.ylim([1100, 100]) # Invert y-axis to match image coordinates\n",
    "ax.set_aspect('equal')  # Set aspect ratio to 1\n",
    "plt.show()\n",
    "\n"
   ]
  },
  {
   "cell_type": "code",
   "execution_count": null,
   "metadata": {},
   "outputs": [],
   "source": []
  },
  {
   "cell_type": "code",
   "execution_count": null,
   "metadata": {},
   "outputs": [],
   "source": []
  },
  {
   "cell_type": "markdown",
   "metadata": {},
   "source": [
    "Use the `OlderMonocotPipeline` to calculate all traits"
   ]
  },
  {
   "cell_type": "code",
   "execution_count": 23,
   "metadata": {},
   "outputs": [],
   "source": [
    "# Initialize the pipeline\n",
    "pipeline = sr.OlderMonocotPipeline()"
   ]
  },
  {
   "cell_type": "code",
   "execution_count": 24,
   "metadata": {},
   "outputs": [],
   "source": [
    "# Compute the traits for one plant\n",
    "plant_traits_df = pipeline.compute_plant_traits(series, write_csv=True)"
   ]
  },
  {
   "cell_type": "code",
   "execution_count": 25,
   "metadata": {},
   "outputs": [
    {
     "data": {
      "text/html": [
       "<div>\n",
       "<style scoped>\n",
       "    .dataframe tbody tr th:only-of-type {\n",
       "        vertical-align: middle;\n",
       "    }\n",
       "\n",
       "    .dataframe tbody tr th {\n",
       "        vertical-align: top;\n",
       "    }\n",
       "\n",
       "    .dataframe thead th {\n",
       "        text-align: right;\n",
       "    }\n",
       "</style>\n",
       "<table border=\"1\" class=\"dataframe\">\n",
       "  <thead>\n",
       "    <tr style=\"text-align: right;\">\n",
       "      <th></th>\n",
       "      <th>plant_name</th>\n",
       "      <th>frame_idx</th>\n",
       "      <th>crown_count</th>\n",
       "      <th>crown_lengths_min</th>\n",
       "      <th>crown_lengths_max</th>\n",
       "      <th>crown_lengths_mean</th>\n",
       "      <th>crown_lengths_median</th>\n",
       "      <th>crown_lengths_std</th>\n",
       "      <th>crown_lengths_p5</th>\n",
       "      <th>crown_lengths_p25</th>\n",
       "      <th>...</th>\n",
       "      <th>chull_line_lengths_p25</th>\n",
       "      <th>chull_line_lengths_p75</th>\n",
       "      <th>chull_line_lengths_p95</th>\n",
       "      <th>ellipse_ratio</th>\n",
       "      <th>scanline_last_ind</th>\n",
       "      <th>scanline_first_ind</th>\n",
       "      <th>angle_chull_r1_left_intersection_vector</th>\n",
       "      <th>angle_chull_r1_right_intersection_vector</th>\n",
       "      <th>chull_area_above_r1_intersection</th>\n",
       "      <th>chull_area_below_r1_intersection</th>\n",
       "    </tr>\n",
       "  </thead>\n",
       "  <tbody>\n",
       "    <tr>\n",
       "      <th>0</th>\n",
       "      <td>0K9E8BI</td>\n",
       "      <td>0</td>\n",
       "      <td>4</td>\n",
       "      <td>127.788895</td>\n",
       "      <td>654.761155</td>\n",
       "      <td>356.497355</td>\n",
       "      <td>321.719685</td>\n",
       "      <td>204.711777</td>\n",
       "      <td>140.467451</td>\n",
       "      <td>191.181673</td>\n",
       "      <td>...</td>\n",
       "      <td>163.983649</td>\n",
       "      <td>414.355053</td>\n",
       "      <td>640.116445</td>\n",
       "      <td>3.340503</td>\n",
       "      <td>39</td>\n",
       "      <td>11</td>\n",
       "      <td>NaN</td>\n",
       "      <td>NaN</td>\n",
       "      <td>0.000000</td>\n",
       "      <td>0.000000</td>\n",
       "    </tr>\n",
       "    <tr>\n",
       "      <th>1</th>\n",
       "      <td>0K9E8BI</td>\n",
       "      <td>1</td>\n",
       "      <td>4</td>\n",
       "      <td>127.962987</td>\n",
       "      <td>654.778273</td>\n",
       "      <td>355.551651</td>\n",
       "      <td>319.732672</td>\n",
       "      <td>205.369253</td>\n",
       "      <td>140.022806</td>\n",
       "      <td>188.262084</td>\n",
       "      <td>...</td>\n",
       "      <td>166.179606</td>\n",
       "      <td>413.335584</td>\n",
       "      <td>640.229960</td>\n",
       "      <td>3.344466</td>\n",
       "      <td>39</td>\n",
       "      <td>11</td>\n",
       "      <td>NaN</td>\n",
       "      <td>NaN</td>\n",
       "      <td>0.000000</td>\n",
       "      <td>0.000000</td>\n",
       "    </tr>\n",
       "    <tr>\n",
       "      <th>2</th>\n",
       "      <td>0K9E8BI</td>\n",
       "      <td>2</td>\n",
       "      <td>4</td>\n",
       "      <td>111.495647</td>\n",
       "      <td>667.995864</td>\n",
       "      <td>357.223626</td>\n",
       "      <td>324.701497</td>\n",
       "      <td>215.745430</td>\n",
       "      <td>126.013484</td>\n",
       "      <td>184.084829</td>\n",
       "      <td>...</td>\n",
       "      <td>173.272137</td>\n",
       "      <td>412.459757</td>\n",
       "      <td>606.432712</td>\n",
       "      <td>3.351274</td>\n",
       "      <td>39</td>\n",
       "      <td>10</td>\n",
       "      <td>NaN</td>\n",
       "      <td>NaN</td>\n",
       "      <td>0.000000</td>\n",
       "      <td>0.000000</td>\n",
       "    </tr>\n",
       "    <tr>\n",
       "      <th>3</th>\n",
       "      <td>0K9E8BI</td>\n",
       "      <td>3</td>\n",
       "      <td>3</td>\n",
       "      <td>361.884032</td>\n",
       "      <td>530.572350</td>\n",
       "      <td>424.633932</td>\n",
       "      <td>381.445415</td>\n",
       "      <td>75.334247</td>\n",
       "      <td>363.840170</td>\n",
       "      <td>371.664723</td>\n",
       "      <td>...</td>\n",
       "      <td>161.296134</td>\n",
       "      <td>383.680109</td>\n",
       "      <td>558.314957</td>\n",
       "      <td>3.009842</td>\n",
       "      <td>39</td>\n",
       "      <td>11</td>\n",
       "      <td>29.429722</td>\n",
       "      <td>45.269925</td>\n",
       "      <td>4799.995610</td>\n",
       "      <td>77093.436431</td>\n",
       "    </tr>\n",
       "    <tr>\n",
       "      <th>4</th>\n",
       "      <td>0K9E8BI</td>\n",
       "      <td>4</td>\n",
       "      <td>4</td>\n",
       "      <td>81.388418</td>\n",
       "      <td>653.449874</td>\n",
       "      <td>386.765756</td>\n",
       "      <td>406.112366</td>\n",
       "      <td>204.774127</td>\n",
       "      <td>124.683016</td>\n",
       "      <td>297.861404</td>\n",
       "      <td>...</td>\n",
       "      <td>171.756352</td>\n",
       "      <td>415.993090</td>\n",
       "      <td>619.192085</td>\n",
       "      <td>3.242380</td>\n",
       "      <td>39</td>\n",
       "      <td>10</td>\n",
       "      <td>10.255583</td>\n",
       "      <td>11.811177</td>\n",
       "      <td>10786.758770</td>\n",
       "      <td>76758.989333</td>\n",
       "    </tr>\n",
       "    <tr>\n",
       "      <th>...</th>\n",
       "      <td>...</td>\n",
       "      <td>...</td>\n",
       "      <td>...</td>\n",
       "      <td>...</td>\n",
       "      <td>...</td>\n",
       "      <td>...</td>\n",
       "      <td>...</td>\n",
       "      <td>...</td>\n",
       "      <td>...</td>\n",
       "      <td>...</td>\n",
       "      <td>...</td>\n",
       "      <td>...</td>\n",
       "      <td>...</td>\n",
       "      <td>...</td>\n",
       "      <td>...</td>\n",
       "      <td>...</td>\n",
       "      <td>...</td>\n",
       "      <td>...</td>\n",
       "      <td>...</td>\n",
       "      <td>...</td>\n",
       "      <td>...</td>\n",
       "    </tr>\n",
       "    <tr>\n",
       "      <th>67</th>\n",
       "      <td>0K9E8BI</td>\n",
       "      <td>67</td>\n",
       "      <td>4</td>\n",
       "      <td>338.806244</td>\n",
       "      <td>638.381398</td>\n",
       "      <td>438.146903</td>\n",
       "      <td>387.699985</td>\n",
       "      <td>117.805313</td>\n",
       "      <td>343.865036</td>\n",
       "      <td>364.100204</td>\n",
       "      <td>...</td>\n",
       "      <td>182.471374</td>\n",
       "      <td>363.260003</td>\n",
       "      <td>582.868062</td>\n",
       "      <td>2.338356</td>\n",
       "      <td>38</td>\n",
       "      <td>10</td>\n",
       "      <td>15.069120</td>\n",
       "      <td>22.628993</td>\n",
       "      <td>9214.621498</td>\n",
       "      <td>102194.593194</td>\n",
       "    </tr>\n",
       "    <tr>\n",
       "      <th>68</th>\n",
       "      <td>0K9E8BI</td>\n",
       "      <td>68</td>\n",
       "      <td>4</td>\n",
       "      <td>338.903112</td>\n",
       "      <td>560.113690</td>\n",
       "      <td>419.951816</td>\n",
       "      <td>390.395230</td>\n",
       "      <td>84.215435</td>\n",
       "      <td>344.485733</td>\n",
       "      <td>366.816217</td>\n",
       "      <td>...</td>\n",
       "      <td>181.574318</td>\n",
       "      <td>362.941327</td>\n",
       "      <td>648.086393</td>\n",
       "      <td>2.366155</td>\n",
       "      <td>38</td>\n",
       "      <td>10</td>\n",
       "      <td>22.748708</td>\n",
       "      <td>57.710591</td>\n",
       "      <td>5080.507453</td>\n",
       "      <td>101069.167862</td>\n",
       "    </tr>\n",
       "    <tr>\n",
       "      <th>69</th>\n",
       "      <td>0K9E8BI</td>\n",
       "      <td>69</td>\n",
       "      <td>5</td>\n",
       "      <td>43.958661</td>\n",
       "      <td>559.921818</td>\n",
       "      <td>349.726369</td>\n",
       "      <td>353.703263</td>\n",
       "      <td>170.738035</td>\n",
       "      <td>105.473222</td>\n",
       "      <td>351.531467</td>\n",
       "      <td>...</td>\n",
       "      <td>164.373507</td>\n",
       "      <td>345.691370</td>\n",
       "      <td>583.547437</td>\n",
       "      <td>2.316880</td>\n",
       "      <td>38</td>\n",
       "      <td>10</td>\n",
       "      <td>NaN</td>\n",
       "      <td>NaN</td>\n",
       "      <td>0.000000</td>\n",
       "      <td>0.000000</td>\n",
       "    </tr>\n",
       "    <tr>\n",
       "      <th>70</th>\n",
       "      <td>0K9E8BI</td>\n",
       "      <td>70</td>\n",
       "      <td>5</td>\n",
       "      <td>27.834064</td>\n",
       "      <td>559.659598</td>\n",
       "      <td>305.984214</td>\n",
       "      <td>358.076449</td>\n",
       "      <td>178.345798</td>\n",
       "      <td>63.836733</td>\n",
       "      <td>207.847406</td>\n",
       "      <td>...</td>\n",
       "      <td>151.775637</td>\n",
       "      <td>359.902874</td>\n",
       "      <td>568.090370</td>\n",
       "      <td>2.269777</td>\n",
       "      <td>38</td>\n",
       "      <td>10</td>\n",
       "      <td>NaN</td>\n",
       "      <td>NaN</td>\n",
       "      <td>0.000000</td>\n",
       "      <td>0.000000</td>\n",
       "    </tr>\n",
       "    <tr>\n",
       "      <th>71</th>\n",
       "      <td>0K9E8BI</td>\n",
       "      <td>71</td>\n",
       "      <td>4</td>\n",
       "      <td>329.854849</td>\n",
       "      <td>551.197629</td>\n",
       "      <td>396.902055</td>\n",
       "      <td>353.277871</td>\n",
       "      <td>90.302366</td>\n",
       "      <td>330.974219</td>\n",
       "      <td>335.451701</td>\n",
       "      <td>...</td>\n",
       "      <td>184.835003</td>\n",
       "      <td>389.542727</td>\n",
       "      <td>594.152005</td>\n",
       "      <td>2.379788</td>\n",
       "      <td>38</td>\n",
       "      <td>11</td>\n",
       "      <td>36.071831</td>\n",
       "      <td>58.746745</td>\n",
       "      <td>4206.885712</td>\n",
       "      <td>93512.760946</td>\n",
       "    </tr>\n",
       "  </tbody>\n",
       "</table>\n",
       "<p>72 rows × 102 columns</p>\n",
       "</div>"
      ],
      "text/plain": [
       "   plant_name  frame_idx  crown_count  crown_lengths_min  crown_lengths_max  \\\n",
       "0     0K9E8BI          0            4         127.788895         654.761155   \n",
       "1     0K9E8BI          1            4         127.962987         654.778273   \n",
       "2     0K9E8BI          2            4         111.495647         667.995864   \n",
       "3     0K9E8BI          3            3         361.884032         530.572350   \n",
       "4     0K9E8BI          4            4          81.388418         653.449874   \n",
       "..        ...        ...          ...                ...                ...   \n",
       "67    0K9E8BI         67            4         338.806244         638.381398   \n",
       "68    0K9E8BI         68            4         338.903112         560.113690   \n",
       "69    0K9E8BI         69            5          43.958661         559.921818   \n",
       "70    0K9E8BI         70            5          27.834064         559.659598   \n",
       "71    0K9E8BI         71            4         329.854849         551.197629   \n",
       "\n",
       "    crown_lengths_mean  crown_lengths_median  crown_lengths_std  \\\n",
       "0           356.497355            321.719685         204.711777   \n",
       "1           355.551651            319.732672         205.369253   \n",
       "2           357.223626            324.701497         215.745430   \n",
       "3           424.633932            381.445415          75.334247   \n",
       "4           386.765756            406.112366         204.774127   \n",
       "..                 ...                   ...                ...   \n",
       "67          438.146903            387.699985         117.805313   \n",
       "68          419.951816            390.395230          84.215435   \n",
       "69          349.726369            353.703263         170.738035   \n",
       "70          305.984214            358.076449         178.345798   \n",
       "71          396.902055            353.277871          90.302366   \n",
       "\n",
       "    crown_lengths_p5  crown_lengths_p25  ...  chull_line_lengths_p25  \\\n",
       "0         140.467451         191.181673  ...              163.983649   \n",
       "1         140.022806         188.262084  ...              166.179606   \n",
       "2         126.013484         184.084829  ...              173.272137   \n",
       "3         363.840170         371.664723  ...              161.296134   \n",
       "4         124.683016         297.861404  ...              171.756352   \n",
       "..               ...                ...  ...                     ...   \n",
       "67        343.865036         364.100204  ...              182.471374   \n",
       "68        344.485733         366.816217  ...              181.574318   \n",
       "69        105.473222         351.531467  ...              164.373507   \n",
       "70         63.836733         207.847406  ...              151.775637   \n",
       "71        330.974219         335.451701  ...              184.835003   \n",
       "\n",
       "    chull_line_lengths_p75  chull_line_lengths_p95  ellipse_ratio  \\\n",
       "0               414.355053              640.116445       3.340503   \n",
       "1               413.335584              640.229960       3.344466   \n",
       "2               412.459757              606.432712       3.351274   \n",
       "3               383.680109              558.314957       3.009842   \n",
       "4               415.993090              619.192085       3.242380   \n",
       "..                     ...                     ...            ...   \n",
       "67              363.260003              582.868062       2.338356   \n",
       "68              362.941327              648.086393       2.366155   \n",
       "69              345.691370              583.547437       2.316880   \n",
       "70              359.902874              568.090370       2.269777   \n",
       "71              389.542727              594.152005       2.379788   \n",
       "\n",
       "    scanline_last_ind  scanline_first_ind  \\\n",
       "0                  39                  11   \n",
       "1                  39                  11   \n",
       "2                  39                  10   \n",
       "3                  39                  11   \n",
       "4                  39                  10   \n",
       "..                ...                 ...   \n",
       "67                 38                  10   \n",
       "68                 38                  10   \n",
       "69                 38                  10   \n",
       "70                 38                  10   \n",
       "71                 38                  11   \n",
       "\n",
       "    angle_chull_r1_left_intersection_vector  \\\n",
       "0                                       NaN   \n",
       "1                                       NaN   \n",
       "2                                       NaN   \n",
       "3                                 29.429722   \n",
       "4                                 10.255583   \n",
       "..                                      ...   \n",
       "67                                15.069120   \n",
       "68                                22.748708   \n",
       "69                                      NaN   \n",
       "70                                      NaN   \n",
       "71                                36.071831   \n",
       "\n",
       "    angle_chull_r1_right_intersection_vector  \\\n",
       "0                                        NaN   \n",
       "1                                        NaN   \n",
       "2                                        NaN   \n",
       "3                                  45.269925   \n",
       "4                                  11.811177   \n",
       "..                                       ...   \n",
       "67                                 22.628993   \n",
       "68                                 57.710591   \n",
       "69                                       NaN   \n",
       "70                                       NaN   \n",
       "71                                 58.746745   \n",
       "\n",
       "    chull_area_above_r1_intersection  chull_area_below_r1_intersection  \n",
       "0                           0.000000                          0.000000  \n",
       "1                           0.000000                          0.000000  \n",
       "2                           0.000000                          0.000000  \n",
       "3                        4799.995610                      77093.436431  \n",
       "4                       10786.758770                      76758.989333  \n",
       "..                               ...                               ...  \n",
       "67                       9214.621498                     102194.593194  \n",
       "68                       5080.507453                     101069.167862  \n",
       "69                          0.000000                          0.000000  \n",
       "70                          0.000000                          0.000000  \n",
       "71                       4206.885712                      93512.760946  \n",
       "\n",
       "[72 rows x 102 columns]"
      ]
     },
     "execution_count": 25,
     "metadata": {},
     "output_type": "execute_result"
    }
   ],
   "source": [
    "# Display the plant traits\n",
    "plant_traits_df"
   ]
  },
  {
   "cell_type": "code",
   "execution_count": 26,
   "metadata": {},
   "outputs": [
    {
     "data": {
      "text/html": [
       "<div>\n",
       "<style scoped>\n",
       "    .dataframe tbody tr th:only-of-type {\n",
       "        vertical-align: middle;\n",
       "    }\n",
       "\n",
       "    .dataframe tbody tr th {\n",
       "        vertical-align: top;\n",
       "    }\n",
       "\n",
       "    .dataframe thead th {\n",
       "        text-align: right;\n",
       "    }\n",
       "</style>\n",
       "<table border=\"1\" class=\"dataframe\">\n",
       "  <thead>\n",
       "    <tr style=\"text-align: right;\">\n",
       "      <th></th>\n",
       "      <th>plant_name</th>\n",
       "      <th>crown_count_min</th>\n",
       "      <th>crown_count_max</th>\n",
       "      <th>crown_count_mean</th>\n",
       "      <th>crown_count_median</th>\n",
       "      <th>crown_count_std</th>\n",
       "      <th>crown_count_p5</th>\n",
       "      <th>crown_count_p25</th>\n",
       "      <th>crown_count_p75</th>\n",
       "      <th>crown_count_p95</th>\n",
       "      <th>...</th>\n",
       "      <th>chull_area_above_r1_intersection_p95</th>\n",
       "      <th>chull_area_below_r1_intersection_min</th>\n",
       "      <th>chull_area_below_r1_intersection_max</th>\n",
       "      <th>chull_area_below_r1_intersection_mean</th>\n",
       "      <th>chull_area_below_r1_intersection_median</th>\n",
       "      <th>chull_area_below_r1_intersection_std</th>\n",
       "      <th>chull_area_below_r1_intersection_p5</th>\n",
       "      <th>chull_area_below_r1_intersection_p25</th>\n",
       "      <th>chull_area_below_r1_intersection_p75</th>\n",
       "      <th>chull_area_below_r1_intersection_p95</th>\n",
       "    </tr>\n",
       "  </thead>\n",
       "  <tbody>\n",
       "    <tr>\n",
       "      <th>0</th>\n",
       "      <td>0K9E8BI</td>\n",
       "      <td>3</td>\n",
       "      <td>7</td>\n",
       "      <td>5.194444</td>\n",
       "      <td>5.0</td>\n",
       "      <td>1.100996</td>\n",
       "      <td>3.55</td>\n",
       "      <td>4.0</td>\n",
       "      <td>6.0</td>\n",
       "      <td>7.0</td>\n",
       "      <td>...</td>\n",
       "      <td>11406.360319</td>\n",
       "      <td>0.0</td>\n",
       "      <td>102194.593194</td>\n",
       "      <td>27221.739325</td>\n",
       "      <td>0.0</td>\n",
       "      <td>41525.174494</td>\n",
       "      <td>0.0</td>\n",
       "      <td>0.0</td>\n",
       "      <td>73862.381475</td>\n",
       "      <td>99694.52844</td>\n",
       "    </tr>\n",
       "  </tbody>\n",
       "</table>\n",
       "<p>1 rows × 901 columns</p>\n",
       "</div>"
      ],
      "text/plain": [
       "  plant_name  crown_count_min  crown_count_max  crown_count_mean  \\\n",
       "0    0K9E8BI                3                7          5.194444   \n",
       "\n",
       "   crown_count_median  crown_count_std  crown_count_p5  crown_count_p25  \\\n",
       "0                 5.0         1.100996            3.55              4.0   \n",
       "\n",
       "   crown_count_p75  crown_count_p95  ...  \\\n",
       "0              6.0              7.0  ...   \n",
       "\n",
       "   chull_area_above_r1_intersection_p95  chull_area_below_r1_intersection_min  \\\n",
       "0                          11406.360319                                   0.0   \n",
       "\n",
       "   chull_area_below_r1_intersection_max  \\\n",
       "0                         102194.593194   \n",
       "\n",
       "   chull_area_below_r1_intersection_mean  \\\n",
       "0                           27221.739325   \n",
       "\n",
       "   chull_area_below_r1_intersection_median  \\\n",
       "0                                      0.0   \n",
       "\n",
       "   chull_area_below_r1_intersection_std  chull_area_below_r1_intersection_p5  \\\n",
       "0                          41525.174494                                  0.0   \n",
       "\n",
       "   chull_area_below_r1_intersection_p25  chull_area_below_r1_intersection_p75  \\\n",
       "0                                   0.0                          73862.381475   \n",
       "\n",
       "   chull_area_below_r1_intersection_p95  \n",
       "0                           99694.52844  \n",
       "\n",
       "[1 rows x 901 columns]"
      ]
     },
     "execution_count": 26,
     "metadata": {},
     "output_type": "execute_result"
    }
   ],
   "source": [
    "# Compute the traits for all plants in the folder and get summary statistics per plant\n",
    "csv_path = \"my_summarized_traits.csv\" # Modify this path to save the summarized traits\n",
    "pipeline.compute_batch_traits(all_series, write_csv=True, csv_path=csv_path)"
   ]
  }
 ],
 "metadata": {
  "kernelspec": {
   "display_name": "sleap_roots_dev",
   "language": "python",
   "name": "python3"
  },
  "language_info": {
   "codemirror_mode": {
    "name": "ipython",
    "version": 3
   },
   "file_extension": ".py",
   "mimetype": "text/x-python",
   "name": "python",
   "nbconvert_exporter": "python",
   "pygments_lexer": "ipython3",
   "version": "3.11.10"
  }
 },
 "nbformat": 4,
 "nbformat_minor": 2
}
