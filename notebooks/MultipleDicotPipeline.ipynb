{
 "cells": [
  {
   "cell_type": "code",
   "execution_count": 11,
   "metadata": {},
   "outputs": [],
   "source": [
    "from sleap_roots.series import find_all_series, Series\n",
    "from sleap_roots.trait_pipelines import MultipleDicotPipeline, Pipeline\n",
    "\n",
    "import numpy as np\n",
    "import matplotlib.pyplot as plt\n",
    "import pandas as pd\n",
    "import json\n",
    "import os\n",
    "\n",
    "from typing import List\n",
    "from pathlib import Path"
   ]
  },
  {
   "cell_type": "code",
   "execution_count": 12,
   "metadata": {},
   "outputs": [
    {
     "name": "stdout",
     "output_type": "stream",
     "text": [
      "Current directory: d:\\elizabeths_repos\\sleap-roots\\notebooks\n"
     ]
    }
   ],
   "source": [
    "# Get the current working directory\n",
    "current_directory = os.getcwd()\n",
    "\n",
    "# Print the current working directory\n",
    "print(\"Current directory:\", current_directory)"
   ]
  },
  {
   "cell_type": "code",
   "execution_count": 13,
   "metadata": {},
   "outputs": [
    {
     "name": "stdout",
     "output_type": "stream",
     "text": [
      "Updated current directory: D:\\elizabeths_repos\\sleap-roots\n"
     ]
    }
   ],
   "source": [
    "# Define the directory you want to change to\n",
    "new_directory = \"D:/elizabeths_repos/sleap-roots\"\n",
    "\n",
    "# Change the current working directory\n",
    "os.chdir(new_directory)\n",
    "\n",
    "# Get the updated current working directory\n",
    "updated_directory = os.getcwd()\n",
    "\n",
    "# Print the updated current working directory\n",
    "print(\"Updated current directory:\", updated_directory)\n"
   ]
  },
  {
   "cell_type": "code",
   "execution_count": 14,
   "metadata": {},
   "outputs": [],
   "source": [
    "csv_path = \"tests/data/multiple_arabidopsis_11do/merged_proofread_samples_03122024.csv\" # For sample information (count, group)\n",
    "folder_path = \"tests/data/multiple_arabidopsis_11do\" # Location of h5 files and predictions\n",
    "primary_name = \"primary\" # For loading primary root predictions\n",
    "lateral_name = \"lateral\" # For loading lateral root predictions"
   ]
  },
  {
   "cell_type": "code",
   "execution_count": 15,
   "metadata": {},
   "outputs": [
    {
     "data": {
      "text/plain": [
       "['tests/data/multiple_arabidopsis_11do/6039_1.h5',\n",
       " 'tests/data/multiple_arabidopsis_11do/7327_2.h5',\n",
       " 'tests/data/multiple_arabidopsis_11do/9535_1.h5',\n",
       " 'tests/data/multiple_arabidopsis_11do/997_1.h5']"
      ]
     },
     "execution_count": 15,
     "metadata": {},
     "output_type": "execute_result"
    }
   ],
   "source": [
    "# Find all h5 files in the folder\n",
    "all_h5s = find_all_series([folder_path])\n",
    "all_h5s"
   ]
  },
  {
   "cell_type": "code",
   "execution_count": null,
   "metadata": {},
   "outputs": [],
   "source": []
  }
 ],
 "metadata": {
  "kernelspec": {
   "display_name": "sleap_roots",
   "language": "python",
   "name": "python3"
  },
  "language_info": {
   "codemirror_mode": {
    "name": "ipython",
    "version": 3
   },
   "file_extension": ".py",
   "mimetype": "text/x-python",
   "name": "python",
   "nbconvert_exporter": "python",
   "pygments_lexer": "ipython3",
   "version": "3.9.19"
  }
 },
 "nbformat": 4,
 "nbformat_minor": 2
}
