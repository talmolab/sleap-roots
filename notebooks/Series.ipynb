{
 "cells": [
  {
   "cell_type": "code",
   "execution_count": 1,
   "metadata": {},
   "outputs": [],
   "source": [
    "import numpy as np\n",
    "import matplotlib.pyplot as plt\n",
    "import pandas as pd\n",
    "import json\n",
    "import os\n",
    "import seaborn as sns\n",
    "\n",
    "# Import the sleap_roots package\n",
    "import sleap_roots as sr\n",
    "\n",
    "from pathlib import Path\n",
    "\n",
    "from sleap_roots import Series, find_all_h5_series, find_all_slp_series"
   ]
  },
  {
   "cell_type": "code",
   "execution_count": 2,
   "metadata": {},
   "outputs": [
    {
     "name": "stdout",
     "output_type": "stream",
     "text": [
      "0.0.9\n"
     ]
    }
   ],
   "source": [
    "# Print sleap_roots version\n",
    "print(sr.__version__)"
   ]
  },
  {
   "cell_type": "code",
   "execution_count": 3,
   "metadata": {},
   "outputs": [
    {
     "name": "stdout",
     "output_type": "stream",
     "text": [
      "Current directory: d:\\elizabeths_repos\\sleap-roots\\notebooks\n"
     ]
    }
   ],
   "source": [
    "# Get the current working directory\n",
    "current_directory = os.getcwd()\n",
    "\n",
    "# Print the current working directory\n",
    "print(\"Current directory:\", current_directory)"
   ]
  },
  {
   "cell_type": "code",
   "execution_count": 4,
   "metadata": {},
   "outputs": [
    {
     "name": "stdout",
     "output_type": "stream",
     "text": [
      "Updated current directory: D:\\elizabeths_repos\\sleap-roots\n"
     ]
    }
   ],
   "source": [
    "# Use this cell if you want to change the current working directory\n",
    "\n",
    "# Define the directory you want to change to\n",
    "new_directory = \"D:/elizabeths_repos/sleap-roots\"\n",
    "\n",
    "# Change the current working directory\n",
    "os.chdir(new_directory)\n",
    "\n",
    "# Get the updated current working directory\n",
    "updated_directory = os.getcwd()\n",
    "\n",
    "# Print the updated current working directory\n",
    "print(\"Updated current directory:\", updated_directory)"
   ]
  },
  {
   "cell_type": "code",
   "execution_count": 5,
   "metadata": {},
   "outputs": [],
   "source": [
    "folder_path = \"tests/data/canola_7do\" # Location of h5 files and predictions\n",
    "primary_name = \"primary.predictions\" # For loading primary root predictions\n",
    "lateral_name = \"lateral.predictions\" # For loading lateral root predictions"
   ]
  },
  {
   "cell_type": "code",
   "execution_count": 6,
   "metadata": {},
   "outputs": [
    {
     "data": {
      "text/plain": [
       "['tests/data/canola_7do/919QDUH.h5']"
      ]
     },
     "execution_count": 6,
     "metadata": {},
     "output_type": "execute_result"
    }
   ],
   "source": [
    "# Find all h5 files in the folder\n",
    "all_h5s = sr.find_all_h5_series(folder_path)\n",
    "all_h5s"
   ]
  },
  {
   "cell_type": "code",
   "execution_count": 7,
   "metadata": {},
   "outputs": [
    {
     "name": "stdout",
     "output_type": "stream",
     "text": [
      "Primary prediction file not found: 919QDUH.primary.predictions.slp\n",
      "Lateral prediction file not found: 919QDUH.lateral.predictions.slp\n"
     ]
    },
    {
     "data": {
      "text/plain": [
       "[Series(series_name='919QDUH', h5_path='tests/data/canola_7do/919QDUH.h5', primary_labels=None, lateral_labels=None, crown_labels=None, video=None, csv_path=None)]"
      ]
     },
     "execution_count": 7,
     "metadata": {},
     "output_type": "execute_result"
    }
   ],
   "source": [
    "# Load the cylinder series (one per h5 file)\n",
    "all_series = [sr.Series.load(h5_path=h5, primary_name=primary_name, lateral_name=lateral_name) for h5 in all_h5s]\n",
    "all_series"
   ]
  },
  {
   "cell_type": "code",
   "execution_count": null,
   "metadata": {},
   "outputs": [],
   "source": []
  },
  {
   "cell_type": "code",
   "execution_count": null,
   "metadata": {},
   "outputs": [],
   "source": []
  }
 ],
 "metadata": {
  "kernelspec": {
   "display_name": "sleap-roots-dev",
   "language": "python",
   "name": "python3"
  },
  "language_info": {
   "codemirror_mode": {
    "name": "ipython",
    "version": 3
   },
   "file_extension": ".py",
   "mimetype": "text/x-python",
   "name": "python",
   "nbconvert_exporter": "python",
   "pygments_lexer": "ipython3",
   "version": "3.11.9"
  }
 },
 "nbformat": 4,
 "nbformat_minor": 2
}
