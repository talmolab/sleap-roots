{
 "cells": [
  {
   "cell_type": "code",
   "execution_count": 1,
   "metadata": {},
   "outputs": [],
   "source": [
    "from sleap_roots.points import is_line_valid, associate_lateral_to_primary, flatten_associated_points\n",
    "from sleap_roots.lengths import get_min_distance_line_to_line\n",
    "from sleap_roots.series import find_all_series, Series\n",
    "from sleap_roots.trait_pipelines import MultipleDicotPipeline, Pipeline, DicotPipeline\n",
    "from sleap_roots.summary import get_summary\n",
    "\n",
    "import numpy as np\n",
    "import matplotlib.pyplot as plt\n",
    "import pandas as pd\n",
    "import json\n",
    "\n",
    "from matplotlib.lines import Line2D\n",
    "from shapely.geometry import LineString, Point\n",
    "from shapely.ops import nearest_points\n",
    "from matplotlib.collections import LineCollection\n",
    "from typing import List"
   ]
  },
  {
   "cell_type": "code",
   "execution_count": 2,
   "metadata": {},
   "outputs": [
    {
     "data": {
      "text/plain": [
       "[Series(h5_path='tests/data/multiple_arabidopsis_11do/6039_1.h5', primary_labels=Labels(labeled_frames=67, videos=1, skeletons=1, tracks=0), lateral_labels=Labels(labeled_frames=68, videos=1, skeletons=1, tracks=0), crown_labels=None, video=Video(filename=\"tests/data/multiple_arabidopsis_11do/6039_1.h5\", shape=(72, 1088, 2048, 1), dataset=vol, backend=HDF5Video), csv_path='tests\\\\data\\\\multiple_arabidopsis_11do\\\\merged_proofread_samples_03122024.csv'),\n",
       " Series(h5_path='tests/data/multiple_arabidopsis_11do/7327_2.h5', primary_labels=Labels(labeled_frames=43, videos=1, skeletons=1, tracks=0), lateral_labels=Labels(labeled_frames=31, videos=1, skeletons=1, tracks=0), crown_labels=None, video=Video(filename=\"tests/data/multiple_arabidopsis_11do/7327_2.h5\", shape=(72, 1088, 2048, 1), dataset=vol, backend=HDF5Video), csv_path='tests\\\\data\\\\multiple_arabidopsis_11do\\\\merged_proofread_samples_03122024.csv'),\n",
       " Series(h5_path='tests/data/multiple_arabidopsis_11do/9535_1.h5', primary_labels=Labels(labeled_frames=42, videos=1, skeletons=1, tracks=0), lateral_labels=Labels(labeled_frames=36, videos=1, skeletons=1, tracks=0), crown_labels=None, video=Video(filename=\"tests/data/multiple_arabidopsis_11do/9535_1.h5\", shape=(72, 1088, 2048, 1), dataset=vol, backend=HDF5Video), csv_path='tests\\\\data\\\\multiple_arabidopsis_11do\\\\merged_proofread_samples_03122024.csv'),\n",
       " Series(h5_path='tests/data/multiple_arabidopsis_11do/997_1.h5', primary_labels=Labels(labeled_frames=72, videos=1, skeletons=1, tracks=0), lateral_labels=Labels(labeled_frames=72, videos=1, skeletons=1, tracks=0), crown_labels=None, video=Video(filename=\"tests/data/multiple_arabidopsis_11do/997_1.h5\", shape=(72, 1088, 2048, 1), dataset=vol, backend=HDF5Video), csv_path='tests\\\\data\\\\multiple_arabidopsis_11do\\\\merged_proofread_samples_03122024.csv')]"
      ]
     },
     "execution_count": 2,
     "metadata": {},
     "output_type": "execute_result"
    }
   ],
   "source": [
    "# Load proofread test data\n",
    "folder_path = \"tests\\data\\multiple_arabidopsis_11do\"\n",
    "csv_path = \"tests\\data\\multiple_arabidopsis_11do\\merged_proofread_samples_03122024.csv\"\n",
    "all_series = find_all_series(folder_path)\n",
    "all_series = [Series.load(s, primary_name=\"primary\", lateral_name=\"lateral\", csv_path=csv_path) for s in all_series]\n",
    "all_series"
   ]
  },
  {
   "cell_type": "code",
   "execution_count": 3,
   "metadata": {},
   "outputs": [],
   "source": [
    "small_cyl_index = 0"
   ]
  },
  {
   "cell_type": "code",
   "execution_count": 4,
   "metadata": {},
   "outputs": [
    {
     "data": {
      "text/plain": [
       "Series(h5_path='tests/data/multiple_arabidopsis_11do/6039_1.h5', primary_labels=Labels(labeled_frames=67, videos=1, skeletons=1, tracks=0), lateral_labels=Labels(labeled_frames=68, videos=1, skeletons=1, tracks=0), crown_labels=None, video=Video(filename=\"tests/data/multiple_arabidopsis_11do/6039_1.h5\", shape=(72, 1088, 2048, 1), dataset=vol, backend=HDF5Video), csv_path='tests\\\\data\\\\multiple_arabidopsis_11do\\\\merged_proofread_samples_03122024.csv')"
      ]
     },
     "execution_count": 4,
     "metadata": {},
     "output_type": "execute_result"
    }
   ],
   "source": [
    "# series samples\n",
    "small_cyl = all_series[small_cyl_index]\n",
    "small_cyl"
   ]
  },
  {
   "cell_type": "code",
   "execution_count": 5,
   "metadata": {},
   "outputs": [],
   "source": [
    "class NumpyArrayEncoder(json.JSONEncoder):\n",
    "    \"\"\"Custom encoder for numpy data types.\"\"\"\n",
    "    def default(self, obj):\n",
    "        if isinstance(obj, np.ndarray):\n",
    "            return obj.tolist()  # Convert ndarray to list\n",
    "        # Let the base class default method raise the TypeError\n",
    "        return json.JSONEncoder.default(self, obj)"
   ]
  },
  {
   "cell_type": "code",
   "execution_count": 6,
   "metadata": {},
   "outputs": [],
   "source": [
    "# Initialize multiple dicot pipeline\n",
    "pipeline = MultipleDicotPipeline()"
   ]
  },
  {
   "cell_type": "code",
   "execution_count": 7,
   "metadata": {},
   "outputs": [
    {
     "name": "stdout",
     "output_type": "stream",
     "text": [
      "Processing series '6039_1'\n",
      "Processing series '7327_2'\n",
      "Processing series '9535_1'\n",
      "Processing series '997_1'\n",
      "Computed traits for all series saved to traits.csv\n"
     ]
    }
   ],
   "source": [
    "all_traits = pipeline.compute_batch_multiple_dicots_traits(all_series, write_csv=True)"
   ]
  },
  {
   "cell_type": "code",
   "execution_count": null,
   "metadata": {},
   "outputs": [],
   "source": []
  }
 ],
 "metadata": {
  "kernelspec": {
   "display_name": "sleap-roots",
   "language": "python",
   "name": "python3"
  },
  "language_info": {
   "codemirror_mode": {
    "name": "ipython",
    "version": 3
   },
   "file_extension": ".py",
   "mimetype": "text/x-python",
   "name": "python",
   "nbconvert_exporter": "python",
   "pygments_lexer": "ipython3",
   "version": "3.9.16"
  }
 },
 "nbformat": 4,
 "nbformat_minor": 2
}
